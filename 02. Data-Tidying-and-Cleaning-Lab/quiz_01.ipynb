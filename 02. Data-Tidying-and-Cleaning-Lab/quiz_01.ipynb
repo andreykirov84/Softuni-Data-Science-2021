{
 "cells": [
  {
   "cell_type": "code",
   "execution_count": 74,
   "id": "4949b046",
   "metadata": {},
   "outputs": [],
   "source": [
    "%matplotlib inline"
   ]
  },
  {
   "cell_type": "code",
   "execution_count": 75,
   "id": "6a711f47",
   "metadata": {},
   "outputs": [],
   "source": [
    "import numpy as np\n",
    "import pandas as pd\n",
    "import scipy.stats\n",
    "import matplotlib.pyplot as plt\n"
   ]
  },
  {
   "cell_type": "code",
   "execution_count": 76,
   "id": "6bde46b8",
   "metadata": {},
   "outputs": [],
   "source": [
    "titanic = pd.read_csv('https://raw.githubusercontent.com/Geoyi/Cleaning-Titanic-Data/master/titanic_original.csv')"
   ]
  },
  {
   "cell_type": "code",
   "execution_count": 77,
   "id": "185f1705",
   "metadata": {},
   "outputs": [
    {
     "data": {
      "text/plain": "      pclass  survived                                             name  \\\n0        1.0       1.0                    Allen, Miss. Elisabeth Walton   \n1        1.0       1.0                   Allison, Master. Hudson Trevor   \n2        1.0       0.0                     Allison, Miss. Helen Loraine   \n3        1.0       0.0             Allison, Mr. Hudson Joshua Creighton   \n4        1.0       0.0  Allison, Mrs. Hudson J C (Bessie Waldo Daniels)   \n...      ...       ...                                              ...   \n1305     3.0       0.0                            Zabour, Miss. Thamine   \n1306     3.0       0.0                        Zakarian, Mr. Mapriededer   \n1307     3.0       0.0                              Zakarian, Mr. Ortin   \n1308     3.0       0.0                               Zimmerman, Mr. Leo   \n1309     NaN       NaN                                              NaN   \n\n         sex      age  sibsp  parch  ticket      fare    cabin embarked boat  \\\n0     female  29.0000    0.0    0.0   24160  211.3375       B5        S    2   \n1       male   0.9167    1.0    2.0  113781  151.5500  C22 C26        S   11   \n2     female   2.0000    1.0    2.0  113781  151.5500  C22 C26        S  NaN   \n3       male  30.0000    1.0    2.0  113781  151.5500  C22 C26        S  NaN   \n4     female  25.0000    1.0    2.0  113781  151.5500  C22 C26        S  NaN   \n...      ...      ...    ...    ...     ...       ...      ...      ...  ...   \n1305  female      NaN    1.0    0.0    2665   14.4542      NaN        C  NaN   \n1306    male  26.5000    0.0    0.0    2656    7.2250      NaN        C  NaN   \n1307    male  27.0000    0.0    0.0    2670    7.2250      NaN        C  NaN   \n1308    male  29.0000    0.0    0.0  315082    7.8750      NaN        S  NaN   \n1309     NaN      NaN    NaN    NaN     NaN       NaN      NaN      NaN  NaN   \n\n       body                        home.dest  \n0       NaN                     St Louis, MO  \n1       NaN  Montreal, PQ / Chesterville, ON  \n2       NaN  Montreal, PQ / Chesterville, ON  \n3     135.0  Montreal, PQ / Chesterville, ON  \n4       NaN  Montreal, PQ / Chesterville, ON  \n...     ...                              ...  \n1305    NaN                              NaN  \n1306  304.0                              NaN  \n1307    NaN                              NaN  \n1308    NaN                              NaN  \n1309    NaN                              NaN  \n\n[1310 rows x 14 columns]",
      "text/html": "<div>\n<style scoped>\n    .dataframe tbody tr th:only-of-type {\n        vertical-align: middle;\n    }\n\n    .dataframe tbody tr th {\n        vertical-align: top;\n    }\n\n    .dataframe thead th {\n        text-align: right;\n    }\n</style>\n<table border=\"1\" class=\"dataframe\">\n  <thead>\n    <tr style=\"text-align: right;\">\n      <th></th>\n      <th>pclass</th>\n      <th>survived</th>\n      <th>name</th>\n      <th>sex</th>\n      <th>age</th>\n      <th>sibsp</th>\n      <th>parch</th>\n      <th>ticket</th>\n      <th>fare</th>\n      <th>cabin</th>\n      <th>embarked</th>\n      <th>boat</th>\n      <th>body</th>\n      <th>home.dest</th>\n    </tr>\n  </thead>\n  <tbody>\n    <tr>\n      <th>0</th>\n      <td>1.0</td>\n      <td>1.0</td>\n      <td>Allen, Miss. Elisabeth Walton</td>\n      <td>female</td>\n      <td>29.0000</td>\n      <td>0.0</td>\n      <td>0.0</td>\n      <td>24160</td>\n      <td>211.3375</td>\n      <td>B5</td>\n      <td>S</td>\n      <td>2</td>\n      <td>NaN</td>\n      <td>St Louis, MO</td>\n    </tr>\n    <tr>\n      <th>1</th>\n      <td>1.0</td>\n      <td>1.0</td>\n      <td>Allison, Master. Hudson Trevor</td>\n      <td>male</td>\n      <td>0.9167</td>\n      <td>1.0</td>\n      <td>2.0</td>\n      <td>113781</td>\n      <td>151.5500</td>\n      <td>C22 C26</td>\n      <td>S</td>\n      <td>11</td>\n      <td>NaN</td>\n      <td>Montreal, PQ / Chesterville, ON</td>\n    </tr>\n    <tr>\n      <th>2</th>\n      <td>1.0</td>\n      <td>0.0</td>\n      <td>Allison, Miss. Helen Loraine</td>\n      <td>female</td>\n      <td>2.0000</td>\n      <td>1.0</td>\n      <td>2.0</td>\n      <td>113781</td>\n      <td>151.5500</td>\n      <td>C22 C26</td>\n      <td>S</td>\n      <td>NaN</td>\n      <td>NaN</td>\n      <td>Montreal, PQ / Chesterville, ON</td>\n    </tr>\n    <tr>\n      <th>3</th>\n      <td>1.0</td>\n      <td>0.0</td>\n      <td>Allison, Mr. Hudson Joshua Creighton</td>\n      <td>male</td>\n      <td>30.0000</td>\n      <td>1.0</td>\n      <td>2.0</td>\n      <td>113781</td>\n      <td>151.5500</td>\n      <td>C22 C26</td>\n      <td>S</td>\n      <td>NaN</td>\n      <td>135.0</td>\n      <td>Montreal, PQ / Chesterville, ON</td>\n    </tr>\n    <tr>\n      <th>4</th>\n      <td>1.0</td>\n      <td>0.0</td>\n      <td>Allison, Mrs. Hudson J C (Bessie Waldo Daniels)</td>\n      <td>female</td>\n      <td>25.0000</td>\n      <td>1.0</td>\n      <td>2.0</td>\n      <td>113781</td>\n      <td>151.5500</td>\n      <td>C22 C26</td>\n      <td>S</td>\n      <td>NaN</td>\n      <td>NaN</td>\n      <td>Montreal, PQ / Chesterville, ON</td>\n    </tr>\n    <tr>\n      <th>...</th>\n      <td>...</td>\n      <td>...</td>\n      <td>...</td>\n      <td>...</td>\n      <td>...</td>\n      <td>...</td>\n      <td>...</td>\n      <td>...</td>\n      <td>...</td>\n      <td>...</td>\n      <td>...</td>\n      <td>...</td>\n      <td>...</td>\n      <td>...</td>\n    </tr>\n    <tr>\n      <th>1305</th>\n      <td>3.0</td>\n      <td>0.0</td>\n      <td>Zabour, Miss. Thamine</td>\n      <td>female</td>\n      <td>NaN</td>\n      <td>1.0</td>\n      <td>0.0</td>\n      <td>2665</td>\n      <td>14.4542</td>\n      <td>NaN</td>\n      <td>C</td>\n      <td>NaN</td>\n      <td>NaN</td>\n      <td>NaN</td>\n    </tr>\n    <tr>\n      <th>1306</th>\n      <td>3.0</td>\n      <td>0.0</td>\n      <td>Zakarian, Mr. Mapriededer</td>\n      <td>male</td>\n      <td>26.5000</td>\n      <td>0.0</td>\n      <td>0.0</td>\n      <td>2656</td>\n      <td>7.2250</td>\n      <td>NaN</td>\n      <td>C</td>\n      <td>NaN</td>\n      <td>304.0</td>\n      <td>NaN</td>\n    </tr>\n    <tr>\n      <th>1307</th>\n      <td>3.0</td>\n      <td>0.0</td>\n      <td>Zakarian, Mr. Ortin</td>\n      <td>male</td>\n      <td>27.0000</td>\n      <td>0.0</td>\n      <td>0.0</td>\n      <td>2670</td>\n      <td>7.2250</td>\n      <td>NaN</td>\n      <td>C</td>\n      <td>NaN</td>\n      <td>NaN</td>\n      <td>NaN</td>\n    </tr>\n    <tr>\n      <th>1308</th>\n      <td>3.0</td>\n      <td>0.0</td>\n      <td>Zimmerman, Mr. Leo</td>\n      <td>male</td>\n      <td>29.0000</td>\n      <td>0.0</td>\n      <td>0.0</td>\n      <td>315082</td>\n      <td>7.8750</td>\n      <td>NaN</td>\n      <td>S</td>\n      <td>NaN</td>\n      <td>NaN</td>\n      <td>NaN</td>\n    </tr>\n    <tr>\n      <th>1309</th>\n      <td>NaN</td>\n      <td>NaN</td>\n      <td>NaN</td>\n      <td>NaN</td>\n      <td>NaN</td>\n      <td>NaN</td>\n      <td>NaN</td>\n      <td>NaN</td>\n      <td>NaN</td>\n      <td>NaN</td>\n      <td>NaN</td>\n      <td>NaN</td>\n      <td>NaN</td>\n      <td>NaN</td>\n    </tr>\n  </tbody>\n</table>\n<p>1310 rows × 14 columns</p>\n</div>"
     },
     "execution_count": 77,
     "metadata": {},
     "output_type": "execute_result"
    }
   ],
   "source": [
    "titanic"
   ]
  },
  {
   "cell_type": "code",
   "execution_count": 78,
   "id": "f03e25a2",
   "metadata": {},
   "outputs": [
    {
     "data": {
      "text/plain": "(1310, 14)"
     },
     "execution_count": 78,
     "metadata": {},
     "output_type": "execute_result"
    }
   ],
   "source": [
    "titanic.shape\n"
   ]
  },
  {
   "cell_type": "code",
   "execution_count": 79,
   "id": "71585960",
   "metadata": {},
   "outputs": [
    {
     "data": {
      "text/plain": "1"
     },
     "execution_count": 79,
     "metadata": {},
     "output_type": "execute_result"
    }
   ],
   "source": [
    "titanic['name'].isna().sum()"
   ]
  },
  {
   "cell_type": "code",
   "execution_count": 80,
   "id": "6f9a2af0",
   "metadata": {},
   "outputs": [
    {
     "name": "stdout",
     "output_type": "stream",
     "text": [
      "column pclass has 1 number of NaNs\n",
      "column survived has 1 number of NaNs\n",
      "column name has 1 number of NaNs\n",
      "column sex has 1 number of NaNs\n",
      "column age has 264 number of NaNs\n",
      "column sibsp has 1 number of NaNs\n",
      "column parch has 1 number of NaNs\n",
      "column ticket has 1 number of NaNs\n",
      "column fare has 2 number of NaNs\n",
      "column cabin has 1015 number of NaNs\n",
      "column embarked has 3 number of NaNs\n",
      "column boat has 824 number of NaNs\n",
      "column body has 1189 number of NaNs\n",
      "column home.dest has 565 number of NaNs\n"
     ]
    }
   ],
   "source": [
    "columns = titanic.keys()\n",
    "for name in columns:\n",
    "    nan_number = titanic[name].isna().sum()\n",
    "    print(f'column {name} has {nan_number} number of NaNs')"
   ]
  },
  {
   "cell_type": "code",
   "execution_count": 80,
   "id": "b108fb2d",
   "metadata": {},
   "outputs": [],
   "source": []
  },
  {
   "cell_type": "code",
   "execution_count": 81,
   "id": "be29d287",
   "metadata": {},
   "outputs": [],
   "source": [
    "iris = pd.read_csv('https://archive.ics.uci.edu/ml/machine-learning-databases/iris/iris.data', header = None)\n"
   ]
  },
  {
   "cell_type": "code",
   "execution_count": 82,
   "id": "b460499f",
   "metadata": {},
   "outputs": [
    {
     "data": {
      "text/plain": "(150, 5)"
     },
     "execution_count": 82,
     "metadata": {},
     "output_type": "execute_result"
    }
   ],
   "source": [
    "iris.shape"
   ]
  },
  {
   "cell_type": "code",
   "execution_count": 83,
   "id": "9dd5ba54",
   "metadata": {},
   "outputs": [
    {
     "data": {
      "text/plain": "       0    1    2    3               4\n0    5.1  3.5  1.4  0.2     Iris-setosa\n1    4.9  3.0  1.4  0.2     Iris-setosa\n2    4.7  3.2  1.3  0.2     Iris-setosa\n3    4.6  3.1  1.5  0.2     Iris-setosa\n4    5.0  3.6  1.4  0.2     Iris-setosa\n..   ...  ...  ...  ...             ...\n145  6.7  3.0  5.2  2.3  Iris-virginica\n146  6.3  2.5  5.0  1.9  Iris-virginica\n147  6.5  3.0  5.2  2.0  Iris-virginica\n148  6.2  3.4  5.4  2.3  Iris-virginica\n149  5.9  3.0  5.1  1.8  Iris-virginica\n\n[150 rows x 5 columns]",
      "text/html": "<div>\n<style scoped>\n    .dataframe tbody tr th:only-of-type {\n        vertical-align: middle;\n    }\n\n    .dataframe tbody tr th {\n        vertical-align: top;\n    }\n\n    .dataframe thead th {\n        text-align: right;\n    }\n</style>\n<table border=\"1\" class=\"dataframe\">\n  <thead>\n    <tr style=\"text-align: right;\">\n      <th></th>\n      <th>0</th>\n      <th>1</th>\n      <th>2</th>\n      <th>3</th>\n      <th>4</th>\n    </tr>\n  </thead>\n  <tbody>\n    <tr>\n      <th>0</th>\n      <td>5.1</td>\n      <td>3.5</td>\n      <td>1.4</td>\n      <td>0.2</td>\n      <td>Iris-setosa</td>\n    </tr>\n    <tr>\n      <th>1</th>\n      <td>4.9</td>\n      <td>3.0</td>\n      <td>1.4</td>\n      <td>0.2</td>\n      <td>Iris-setosa</td>\n    </tr>\n    <tr>\n      <th>2</th>\n      <td>4.7</td>\n      <td>3.2</td>\n      <td>1.3</td>\n      <td>0.2</td>\n      <td>Iris-setosa</td>\n    </tr>\n    <tr>\n      <th>3</th>\n      <td>4.6</td>\n      <td>3.1</td>\n      <td>1.5</td>\n      <td>0.2</td>\n      <td>Iris-setosa</td>\n    </tr>\n    <tr>\n      <th>4</th>\n      <td>5.0</td>\n      <td>3.6</td>\n      <td>1.4</td>\n      <td>0.2</td>\n      <td>Iris-setosa</td>\n    </tr>\n    <tr>\n      <th>...</th>\n      <td>...</td>\n      <td>...</td>\n      <td>...</td>\n      <td>...</td>\n      <td>...</td>\n    </tr>\n    <tr>\n      <th>145</th>\n      <td>6.7</td>\n      <td>3.0</td>\n      <td>5.2</td>\n      <td>2.3</td>\n      <td>Iris-virginica</td>\n    </tr>\n    <tr>\n      <th>146</th>\n      <td>6.3</td>\n      <td>2.5</td>\n      <td>5.0</td>\n      <td>1.9</td>\n      <td>Iris-virginica</td>\n    </tr>\n    <tr>\n      <th>147</th>\n      <td>6.5</td>\n      <td>3.0</td>\n      <td>5.2</td>\n      <td>2.0</td>\n      <td>Iris-virginica</td>\n    </tr>\n    <tr>\n      <th>148</th>\n      <td>6.2</td>\n      <td>3.4</td>\n      <td>5.4</td>\n      <td>2.3</td>\n      <td>Iris-virginica</td>\n    </tr>\n    <tr>\n      <th>149</th>\n      <td>5.9</td>\n      <td>3.0</td>\n      <td>5.1</td>\n      <td>1.8</td>\n      <td>Iris-virginica</td>\n    </tr>\n  </tbody>\n</table>\n<p>150 rows × 5 columns</p>\n</div>"
     },
     "execution_count": 83,
     "metadata": {},
     "output_type": "execute_result"
    }
   ],
   "source": [
    "iris"
   ]
  },
  {
   "cell_type": "code",
   "execution_count": 84,
   "id": "5245f968",
   "metadata": {},
   "outputs": [],
   "source": [
    "iris.columns = [\"sepal_length_cm\", \"sepal_width_cm\", \"petal_length_cm\", \"petal_width_cm\", \"iris_class\"]"
   ]
  },
  {
   "cell_type": "code",
   "execution_count": 85,
   "id": "96fb9374",
   "metadata": {
    "scrolled": true
   },
   "outputs": [
    {
     "data": {
      "text/plain": "     sepal_length_cm  sepal_width_cm  petal_length_cm  petal_width_cm  \\\n0                5.1             3.5              1.4             0.2   \n1                4.9             3.0              1.4             0.2   \n2                4.7             3.2              1.3             0.2   \n3                4.6             3.1              1.5             0.2   \n4                5.0             3.6              1.4             0.2   \n..               ...             ...              ...             ...   \n145              6.7             3.0              5.2             2.3   \n146              6.3             2.5              5.0             1.9   \n147              6.5             3.0              5.2             2.0   \n148              6.2             3.4              5.4             2.3   \n149              5.9             3.0              5.1             1.8   \n\n         iris_class  \n0       Iris-setosa  \n1       Iris-setosa  \n2       Iris-setosa  \n3       Iris-setosa  \n4       Iris-setosa  \n..              ...  \n145  Iris-virginica  \n146  Iris-virginica  \n147  Iris-virginica  \n148  Iris-virginica  \n149  Iris-virginica  \n\n[150 rows x 5 columns]",
      "text/html": "<div>\n<style scoped>\n    .dataframe tbody tr th:only-of-type {\n        vertical-align: middle;\n    }\n\n    .dataframe tbody tr th {\n        vertical-align: top;\n    }\n\n    .dataframe thead th {\n        text-align: right;\n    }\n</style>\n<table border=\"1\" class=\"dataframe\">\n  <thead>\n    <tr style=\"text-align: right;\">\n      <th></th>\n      <th>sepal_length_cm</th>\n      <th>sepal_width_cm</th>\n      <th>petal_length_cm</th>\n      <th>petal_width_cm</th>\n      <th>iris_class</th>\n    </tr>\n  </thead>\n  <tbody>\n    <tr>\n      <th>0</th>\n      <td>5.1</td>\n      <td>3.5</td>\n      <td>1.4</td>\n      <td>0.2</td>\n      <td>Iris-setosa</td>\n    </tr>\n    <tr>\n      <th>1</th>\n      <td>4.9</td>\n      <td>3.0</td>\n      <td>1.4</td>\n      <td>0.2</td>\n      <td>Iris-setosa</td>\n    </tr>\n    <tr>\n      <th>2</th>\n      <td>4.7</td>\n      <td>3.2</td>\n      <td>1.3</td>\n      <td>0.2</td>\n      <td>Iris-setosa</td>\n    </tr>\n    <tr>\n      <th>3</th>\n      <td>4.6</td>\n      <td>3.1</td>\n      <td>1.5</td>\n      <td>0.2</td>\n      <td>Iris-setosa</td>\n    </tr>\n    <tr>\n      <th>4</th>\n      <td>5.0</td>\n      <td>3.6</td>\n      <td>1.4</td>\n      <td>0.2</td>\n      <td>Iris-setosa</td>\n    </tr>\n    <tr>\n      <th>...</th>\n      <td>...</td>\n      <td>...</td>\n      <td>...</td>\n      <td>...</td>\n      <td>...</td>\n    </tr>\n    <tr>\n      <th>145</th>\n      <td>6.7</td>\n      <td>3.0</td>\n      <td>5.2</td>\n      <td>2.3</td>\n      <td>Iris-virginica</td>\n    </tr>\n    <tr>\n      <th>146</th>\n      <td>6.3</td>\n      <td>2.5</td>\n      <td>5.0</td>\n      <td>1.9</td>\n      <td>Iris-virginica</td>\n    </tr>\n    <tr>\n      <th>147</th>\n      <td>6.5</td>\n      <td>3.0</td>\n      <td>5.2</td>\n      <td>2.0</td>\n      <td>Iris-virginica</td>\n    </tr>\n    <tr>\n      <th>148</th>\n      <td>6.2</td>\n      <td>3.4</td>\n      <td>5.4</td>\n      <td>2.3</td>\n      <td>Iris-virginica</td>\n    </tr>\n    <tr>\n      <th>149</th>\n      <td>5.9</td>\n      <td>3.0</td>\n      <td>5.1</td>\n      <td>1.8</td>\n      <td>Iris-virginica</td>\n    </tr>\n  </tbody>\n</table>\n<p>150 rows × 5 columns</p>\n</div>"
     },
     "execution_count": 85,
     "metadata": {},
     "output_type": "execute_result"
    }
   ],
   "source": [
    "iris"
   ]
  },
  {
   "cell_type": "code",
   "execution_count": 86,
   "id": "8e74fd48",
   "metadata": {},
   "outputs": [
    {
     "data": {
      "text/plain": "3"
     },
     "execution_count": 86,
     "metadata": {},
     "output_type": "execute_result"
    }
   ],
   "source": [
    "len(iris['iris_class'].unique())"
   ]
  },
  {
   "cell_type": "code",
   "execution_count": 87,
   "id": "f87ddc70",
   "metadata": {},
   "outputs": [
    {
     "data": {
      "text/plain": "     sepal_length_cm  sepal_width_cm  petal_length_cm  petal_width_cm  \\\n0                5.1             3.5              1.4             0.2   \n1                4.9             3.0              1.4             0.2   \n2                4.7             3.2              1.3             0.2   \n3                4.6             3.1              1.5             0.2   \n4                5.0             3.6              1.4             0.2   \n..               ...             ...              ...             ...   \n145              6.7             3.0              5.2             2.3   \n146              6.3             2.5              5.0             1.9   \n147              6.5             3.0              5.2             2.0   \n148              6.2             3.4              5.4             2.3   \n149              5.9             3.0              5.1             1.8   \n\n         iris_class  \n0       Iris-setosa  \n1       Iris-setosa  \n2       Iris-setosa  \n3       Iris-setosa  \n4       Iris-setosa  \n..              ...  \n145  Iris-virginica  \n146  Iris-virginica  \n147  Iris-virginica  \n148  Iris-virginica  \n149  Iris-virginica  \n\n[146 rows x 5 columns]",
      "text/html": "<div>\n<style scoped>\n    .dataframe tbody tr th:only-of-type {\n        vertical-align: middle;\n    }\n\n    .dataframe tbody tr th {\n        vertical-align: top;\n    }\n\n    .dataframe thead th {\n        text-align: right;\n    }\n</style>\n<table border=\"1\" class=\"dataframe\">\n  <thead>\n    <tr style=\"text-align: right;\">\n      <th></th>\n      <th>sepal_length_cm</th>\n      <th>sepal_width_cm</th>\n      <th>petal_length_cm</th>\n      <th>petal_width_cm</th>\n      <th>iris_class</th>\n    </tr>\n  </thead>\n  <tbody>\n    <tr>\n      <th>0</th>\n      <td>5.1</td>\n      <td>3.5</td>\n      <td>1.4</td>\n      <td>0.2</td>\n      <td>Iris-setosa</td>\n    </tr>\n    <tr>\n      <th>1</th>\n      <td>4.9</td>\n      <td>3.0</td>\n      <td>1.4</td>\n      <td>0.2</td>\n      <td>Iris-setosa</td>\n    </tr>\n    <tr>\n      <th>2</th>\n      <td>4.7</td>\n      <td>3.2</td>\n      <td>1.3</td>\n      <td>0.2</td>\n      <td>Iris-setosa</td>\n    </tr>\n    <tr>\n      <th>3</th>\n      <td>4.6</td>\n      <td>3.1</td>\n      <td>1.5</td>\n      <td>0.2</td>\n      <td>Iris-setosa</td>\n    </tr>\n    <tr>\n      <th>4</th>\n      <td>5.0</td>\n      <td>3.6</td>\n      <td>1.4</td>\n      <td>0.2</td>\n      <td>Iris-setosa</td>\n    </tr>\n    <tr>\n      <th>...</th>\n      <td>...</td>\n      <td>...</td>\n      <td>...</td>\n      <td>...</td>\n      <td>...</td>\n    </tr>\n    <tr>\n      <th>145</th>\n      <td>6.7</td>\n      <td>3.0</td>\n      <td>5.2</td>\n      <td>2.3</td>\n      <td>Iris-virginica</td>\n    </tr>\n    <tr>\n      <th>146</th>\n      <td>6.3</td>\n      <td>2.5</td>\n      <td>5.0</td>\n      <td>1.9</td>\n      <td>Iris-virginica</td>\n    </tr>\n    <tr>\n      <th>147</th>\n      <td>6.5</td>\n      <td>3.0</td>\n      <td>5.2</td>\n      <td>2.0</td>\n      <td>Iris-virginica</td>\n    </tr>\n    <tr>\n      <th>148</th>\n      <td>6.2</td>\n      <td>3.4</td>\n      <td>5.4</td>\n      <td>2.3</td>\n      <td>Iris-virginica</td>\n    </tr>\n    <tr>\n      <th>149</th>\n      <td>5.9</td>\n      <td>3.0</td>\n      <td>5.1</td>\n      <td>1.8</td>\n      <td>Iris-virginica</td>\n    </tr>\n  </tbody>\n</table>\n<p>146 rows × 5 columns</p>\n</div>"
     },
     "execution_count": 87,
     "metadata": {},
     "output_type": "execute_result"
    }
   ],
   "source": [
    "sepal_length_sample = iris[iris['sepal_length_cm'].between(4.5, 10, inclusive=True)]\n",
    "sepal_length_sample\n",
    "\n"
   ]
  },
  {
   "cell_type": "code",
   "execution_count": 88,
   "id": "55cf2d85",
   "metadata": {},
   "outputs": [
    {
     "data": {
      "text/plain": "(146, 5)"
     },
     "execution_count": 88,
     "metadata": {},
     "output_type": "execute_result"
    }
   ],
   "source": [
    "sepal_length_sample.shape\n"
   ]
  },
  {
   "cell_type": "code",
   "execution_count": 89,
   "id": "07c5dd18",
   "metadata": {},
   "outputs": [
    {
     "data": {
      "text/plain": "3.83"
     },
     "execution_count": 89,
     "metadata": {},
     "output_type": "execute_result"
    }
   ],
   "source": [
    "round(sepal_length_sample.petal_length_cm.mean(), 2)"
   ]
  },
  {
   "cell_type": "code",
   "execution_count": 90,
   "id": "d3aaf797",
   "metadata": {},
   "outputs": [],
   "source": [
    "red_wine = pd.read_csv('http://archive.ics.uci.edu/ml/machine-learning-databases/wine-quality/winequality-red.csv', sep=';')\n",
    "white_wine = pd.read_csv('http://archive.ics.uci.edu/ml/machine-learning-databases/wine-quality/winequality-white.csv', sep=';')"
   ]
  },
  {
   "cell_type": "code",
   "execution_count": 91,
   "id": "ed3421bd",
   "metadata": {},
   "outputs": [
    {
     "data": {
      "text/plain": "      fixed acidity  volatile acidity  citric acid  residual sugar  chlorides  \\\n0               7.4             0.700         0.00             1.9      0.076   \n1               7.8             0.880         0.00             2.6      0.098   \n2               7.8             0.760         0.04             2.3      0.092   \n3              11.2             0.280         0.56             1.9      0.075   \n4               7.4             0.700         0.00             1.9      0.076   \n...             ...               ...          ...             ...        ...   \n1594            6.2             0.600         0.08             2.0      0.090   \n1595            5.9             0.550         0.10             2.2      0.062   \n1596            6.3             0.510         0.13             2.3      0.076   \n1597            5.9             0.645         0.12             2.0      0.075   \n1598            6.0             0.310         0.47             3.6      0.067   \n\n      free sulfur dioxide  total sulfur dioxide  density    pH  sulphates  \\\n0                    11.0                  34.0  0.99780  3.51       0.56   \n1                    25.0                  67.0  0.99680  3.20       0.68   \n2                    15.0                  54.0  0.99700  3.26       0.65   \n3                    17.0                  60.0  0.99800  3.16       0.58   \n4                    11.0                  34.0  0.99780  3.51       0.56   \n...                   ...                   ...      ...   ...        ...   \n1594                 32.0                  44.0  0.99490  3.45       0.58   \n1595                 39.0                  51.0  0.99512  3.52       0.76   \n1596                 29.0                  40.0  0.99574  3.42       0.75   \n1597                 32.0                  44.0  0.99547  3.57       0.71   \n1598                 18.0                  42.0  0.99549  3.39       0.66   \n\n      alcohol  quality  \n0         9.4        5  \n1         9.8        5  \n2         9.8        5  \n3         9.8        6  \n4         9.4        5  \n...       ...      ...  \n1594     10.5        5  \n1595     11.2        6  \n1596     11.0        6  \n1597     10.2        5  \n1598     11.0        6  \n\n[1599 rows x 12 columns]",
      "text/html": "<div>\n<style scoped>\n    .dataframe tbody tr th:only-of-type {\n        vertical-align: middle;\n    }\n\n    .dataframe tbody tr th {\n        vertical-align: top;\n    }\n\n    .dataframe thead th {\n        text-align: right;\n    }\n</style>\n<table border=\"1\" class=\"dataframe\">\n  <thead>\n    <tr style=\"text-align: right;\">\n      <th></th>\n      <th>fixed acidity</th>\n      <th>volatile acidity</th>\n      <th>citric acid</th>\n      <th>residual sugar</th>\n      <th>chlorides</th>\n      <th>free sulfur dioxide</th>\n      <th>total sulfur dioxide</th>\n      <th>density</th>\n      <th>pH</th>\n      <th>sulphates</th>\n      <th>alcohol</th>\n      <th>quality</th>\n    </tr>\n  </thead>\n  <tbody>\n    <tr>\n      <th>0</th>\n      <td>7.4</td>\n      <td>0.700</td>\n      <td>0.00</td>\n      <td>1.9</td>\n      <td>0.076</td>\n      <td>11.0</td>\n      <td>34.0</td>\n      <td>0.99780</td>\n      <td>3.51</td>\n      <td>0.56</td>\n      <td>9.4</td>\n      <td>5</td>\n    </tr>\n    <tr>\n      <th>1</th>\n      <td>7.8</td>\n      <td>0.880</td>\n      <td>0.00</td>\n      <td>2.6</td>\n      <td>0.098</td>\n      <td>25.0</td>\n      <td>67.0</td>\n      <td>0.99680</td>\n      <td>3.20</td>\n      <td>0.68</td>\n      <td>9.8</td>\n      <td>5</td>\n    </tr>\n    <tr>\n      <th>2</th>\n      <td>7.8</td>\n      <td>0.760</td>\n      <td>0.04</td>\n      <td>2.3</td>\n      <td>0.092</td>\n      <td>15.0</td>\n      <td>54.0</td>\n      <td>0.99700</td>\n      <td>3.26</td>\n      <td>0.65</td>\n      <td>9.8</td>\n      <td>5</td>\n    </tr>\n    <tr>\n      <th>3</th>\n      <td>11.2</td>\n      <td>0.280</td>\n      <td>0.56</td>\n      <td>1.9</td>\n      <td>0.075</td>\n      <td>17.0</td>\n      <td>60.0</td>\n      <td>0.99800</td>\n      <td>3.16</td>\n      <td>0.58</td>\n      <td>9.8</td>\n      <td>6</td>\n    </tr>\n    <tr>\n      <th>4</th>\n      <td>7.4</td>\n      <td>0.700</td>\n      <td>0.00</td>\n      <td>1.9</td>\n      <td>0.076</td>\n      <td>11.0</td>\n      <td>34.0</td>\n      <td>0.99780</td>\n      <td>3.51</td>\n      <td>0.56</td>\n      <td>9.4</td>\n      <td>5</td>\n    </tr>\n    <tr>\n      <th>...</th>\n      <td>...</td>\n      <td>...</td>\n      <td>...</td>\n      <td>...</td>\n      <td>...</td>\n      <td>...</td>\n      <td>...</td>\n      <td>...</td>\n      <td>...</td>\n      <td>...</td>\n      <td>...</td>\n      <td>...</td>\n    </tr>\n    <tr>\n      <th>1594</th>\n      <td>6.2</td>\n      <td>0.600</td>\n      <td>0.08</td>\n      <td>2.0</td>\n      <td>0.090</td>\n      <td>32.0</td>\n      <td>44.0</td>\n      <td>0.99490</td>\n      <td>3.45</td>\n      <td>0.58</td>\n      <td>10.5</td>\n      <td>5</td>\n    </tr>\n    <tr>\n      <th>1595</th>\n      <td>5.9</td>\n      <td>0.550</td>\n      <td>0.10</td>\n      <td>2.2</td>\n      <td>0.062</td>\n      <td>39.0</td>\n      <td>51.0</td>\n      <td>0.99512</td>\n      <td>3.52</td>\n      <td>0.76</td>\n      <td>11.2</td>\n      <td>6</td>\n    </tr>\n    <tr>\n      <th>1596</th>\n      <td>6.3</td>\n      <td>0.510</td>\n      <td>0.13</td>\n      <td>2.3</td>\n      <td>0.076</td>\n      <td>29.0</td>\n      <td>40.0</td>\n      <td>0.99574</td>\n      <td>3.42</td>\n      <td>0.75</td>\n      <td>11.0</td>\n      <td>6</td>\n    </tr>\n    <tr>\n      <th>1597</th>\n      <td>5.9</td>\n      <td>0.645</td>\n      <td>0.12</td>\n      <td>2.0</td>\n      <td>0.075</td>\n      <td>32.0</td>\n      <td>44.0</td>\n      <td>0.99547</td>\n      <td>3.57</td>\n      <td>0.71</td>\n      <td>10.2</td>\n      <td>5</td>\n    </tr>\n    <tr>\n      <th>1598</th>\n      <td>6.0</td>\n      <td>0.310</td>\n      <td>0.47</td>\n      <td>3.6</td>\n      <td>0.067</td>\n      <td>18.0</td>\n      <td>42.0</td>\n      <td>0.99549</td>\n      <td>3.39</td>\n      <td>0.66</td>\n      <td>11.0</td>\n      <td>6</td>\n    </tr>\n  </tbody>\n</table>\n<p>1599 rows × 12 columns</p>\n</div>"
     },
     "execution_count": 91,
     "metadata": {},
     "output_type": "execute_result"
    }
   ],
   "source": [
    "red_wine"
   ]
  },
  {
   "cell_type": "code",
   "execution_count": 92,
   "id": "eea1f61f",
   "metadata": {},
   "outputs": [
    {
     "data": {
      "text/plain": "      fixed acidity  volatile acidity  citric acid  residual sugar  chlorides  \\\n0               7.0              0.27         0.36            20.7      0.045   \n1               6.3              0.30         0.34             1.6      0.049   \n2               8.1              0.28         0.40             6.9      0.050   \n3               7.2              0.23         0.32             8.5      0.058   \n4               7.2              0.23         0.32             8.5      0.058   \n...             ...               ...          ...             ...        ...   \n4893            6.2              0.21         0.29             1.6      0.039   \n4894            6.6              0.32         0.36             8.0      0.047   \n4895            6.5              0.24         0.19             1.2      0.041   \n4896            5.5              0.29         0.30             1.1      0.022   \n4897            6.0              0.21         0.38             0.8      0.020   \n\n      free sulfur dioxide  total sulfur dioxide  density    pH  sulphates  \\\n0                    45.0                 170.0  1.00100  3.00       0.45   \n1                    14.0                 132.0  0.99400  3.30       0.49   \n2                    30.0                  97.0  0.99510  3.26       0.44   \n3                    47.0                 186.0  0.99560  3.19       0.40   \n4                    47.0                 186.0  0.99560  3.19       0.40   \n...                   ...                   ...      ...   ...        ...   \n4893                 24.0                  92.0  0.99114  3.27       0.50   \n4894                 57.0                 168.0  0.99490  3.15       0.46   \n4895                 30.0                 111.0  0.99254  2.99       0.46   \n4896                 20.0                 110.0  0.98869  3.34       0.38   \n4897                 22.0                  98.0  0.98941  3.26       0.32   \n\n      alcohol  quality  \n0         8.8        6  \n1         9.5        6  \n2        10.1        6  \n3         9.9        6  \n4         9.9        6  \n...       ...      ...  \n4893     11.2        6  \n4894      9.6        5  \n4895      9.4        6  \n4896     12.8        7  \n4897     11.8        6  \n\n[4898 rows x 12 columns]",
      "text/html": "<div>\n<style scoped>\n    .dataframe tbody tr th:only-of-type {\n        vertical-align: middle;\n    }\n\n    .dataframe tbody tr th {\n        vertical-align: top;\n    }\n\n    .dataframe thead th {\n        text-align: right;\n    }\n</style>\n<table border=\"1\" class=\"dataframe\">\n  <thead>\n    <tr style=\"text-align: right;\">\n      <th></th>\n      <th>fixed acidity</th>\n      <th>volatile acidity</th>\n      <th>citric acid</th>\n      <th>residual sugar</th>\n      <th>chlorides</th>\n      <th>free sulfur dioxide</th>\n      <th>total sulfur dioxide</th>\n      <th>density</th>\n      <th>pH</th>\n      <th>sulphates</th>\n      <th>alcohol</th>\n      <th>quality</th>\n    </tr>\n  </thead>\n  <tbody>\n    <tr>\n      <th>0</th>\n      <td>7.0</td>\n      <td>0.27</td>\n      <td>0.36</td>\n      <td>20.7</td>\n      <td>0.045</td>\n      <td>45.0</td>\n      <td>170.0</td>\n      <td>1.00100</td>\n      <td>3.00</td>\n      <td>0.45</td>\n      <td>8.8</td>\n      <td>6</td>\n    </tr>\n    <tr>\n      <th>1</th>\n      <td>6.3</td>\n      <td>0.30</td>\n      <td>0.34</td>\n      <td>1.6</td>\n      <td>0.049</td>\n      <td>14.0</td>\n      <td>132.0</td>\n      <td>0.99400</td>\n      <td>3.30</td>\n      <td>0.49</td>\n      <td>9.5</td>\n      <td>6</td>\n    </tr>\n    <tr>\n      <th>2</th>\n      <td>8.1</td>\n      <td>0.28</td>\n      <td>0.40</td>\n      <td>6.9</td>\n      <td>0.050</td>\n      <td>30.0</td>\n      <td>97.0</td>\n      <td>0.99510</td>\n      <td>3.26</td>\n      <td>0.44</td>\n      <td>10.1</td>\n      <td>6</td>\n    </tr>\n    <tr>\n      <th>3</th>\n      <td>7.2</td>\n      <td>0.23</td>\n      <td>0.32</td>\n      <td>8.5</td>\n      <td>0.058</td>\n      <td>47.0</td>\n      <td>186.0</td>\n      <td>0.99560</td>\n      <td>3.19</td>\n      <td>0.40</td>\n      <td>9.9</td>\n      <td>6</td>\n    </tr>\n    <tr>\n      <th>4</th>\n      <td>7.2</td>\n      <td>0.23</td>\n      <td>0.32</td>\n      <td>8.5</td>\n      <td>0.058</td>\n      <td>47.0</td>\n      <td>186.0</td>\n      <td>0.99560</td>\n      <td>3.19</td>\n      <td>0.40</td>\n      <td>9.9</td>\n      <td>6</td>\n    </tr>\n    <tr>\n      <th>...</th>\n      <td>...</td>\n      <td>...</td>\n      <td>...</td>\n      <td>...</td>\n      <td>...</td>\n      <td>...</td>\n      <td>...</td>\n      <td>...</td>\n      <td>...</td>\n      <td>...</td>\n      <td>...</td>\n      <td>...</td>\n    </tr>\n    <tr>\n      <th>4893</th>\n      <td>6.2</td>\n      <td>0.21</td>\n      <td>0.29</td>\n      <td>1.6</td>\n      <td>0.039</td>\n      <td>24.0</td>\n      <td>92.0</td>\n      <td>0.99114</td>\n      <td>3.27</td>\n      <td>0.50</td>\n      <td>11.2</td>\n      <td>6</td>\n    </tr>\n    <tr>\n      <th>4894</th>\n      <td>6.6</td>\n      <td>0.32</td>\n      <td>0.36</td>\n      <td>8.0</td>\n      <td>0.047</td>\n      <td>57.0</td>\n      <td>168.0</td>\n      <td>0.99490</td>\n      <td>3.15</td>\n      <td>0.46</td>\n      <td>9.6</td>\n      <td>5</td>\n    </tr>\n    <tr>\n      <th>4895</th>\n      <td>6.5</td>\n      <td>0.24</td>\n      <td>0.19</td>\n      <td>1.2</td>\n      <td>0.041</td>\n      <td>30.0</td>\n      <td>111.0</td>\n      <td>0.99254</td>\n      <td>2.99</td>\n      <td>0.46</td>\n      <td>9.4</td>\n      <td>6</td>\n    </tr>\n    <tr>\n      <th>4896</th>\n      <td>5.5</td>\n      <td>0.29</td>\n      <td>0.30</td>\n      <td>1.1</td>\n      <td>0.022</td>\n      <td>20.0</td>\n      <td>110.0</td>\n      <td>0.98869</td>\n      <td>3.34</td>\n      <td>0.38</td>\n      <td>12.8</td>\n      <td>7</td>\n    </tr>\n    <tr>\n      <th>4897</th>\n      <td>6.0</td>\n      <td>0.21</td>\n      <td>0.38</td>\n      <td>0.8</td>\n      <td>0.020</td>\n      <td>22.0</td>\n      <td>98.0</td>\n      <td>0.98941</td>\n      <td>3.26</td>\n      <td>0.32</td>\n      <td>11.8</td>\n      <td>6</td>\n    </tr>\n  </tbody>\n</table>\n<p>4898 rows × 12 columns</p>\n</div>"
     },
     "execution_count": 92,
     "metadata": {},
     "output_type": "execute_result"
    }
   ],
   "source": [
    "white_wine"
   ]
  },
  {
   "cell_type": "code",
   "execution_count": 93,
   "id": "59ebcce9",
   "metadata": {},
   "outputs": [
    {
     "data": {
      "text/plain": "5.6360225140712945"
     },
     "execution_count": 93,
     "metadata": {},
     "output_type": "execute_result"
    }
   ],
   "source": [
    "np.mean(red_wine.quality)"
   ]
  },
  {
   "cell_type": "code",
   "execution_count": 94,
   "id": "0f6972c1",
   "metadata": {},
   "outputs": [
    {
     "data": {
      "text/plain": "5.87790935075541"
     },
     "execution_count": 94,
     "metadata": {},
     "output_type": "execute_result"
    }
   ],
   "source": [
    "np.mean(white_wine.quality) "
   ]
  },
  {
   "cell_type": "code",
   "execution_count": 95,
   "id": "66f5e98f",
   "metadata": {},
   "outputs": [
    {
     "data": {
      "text/plain": "True"
     },
     "execution_count": 95,
     "metadata": {},
     "output_type": "execute_result"
    }
   ],
   "source": [
    "np.mean(red_wine.quality) < np.mean(white_wine.quality) "
   ]
  },
  {
   "cell_type": "markdown",
   "id": "c6dc295a",
   "metadata": {},
   "source": [
    "asdnumpy.corrcoef return Pearson product-moment correlation coefficients."
   ]
  },
  {
   "cell_type": "code",
   "execution_count": 96,
   "id": "480d58c4",
   "metadata": {},
   "outputs": [],
   "source": [
    "alcohol_content_to_quality_white = white_wine.alcohol.corr(white_wine.quality)"
   ]
  },
  {
   "cell_type": "code",
   "execution_count": 97,
   "id": "e5f818ae",
   "metadata": {},
   "outputs": [
    {
     "data": {
      "text/plain": "array([[1.        , 0.47616632],\n       [0.47616632, 1.        ]])"
     },
     "execution_count": 97,
     "metadata": {},
     "output_type": "execute_result"
    }
   ],
   "source": [
    "alcohol_content_to_quality_red = np.corrcoef(red_wine.alcohol, red_wine.quality)\n",
    "alcohol_content_to_quality_red"
   ]
  },
  {
   "cell_type": "code",
   "execution_count": 98,
   "id": "c4849619",
   "metadata": {},
   "outputs": [
    {
     "data": {
      "text/plain": "SpearmanrResult(correlation=0.47853168747024344, pvalue=2.7268377398474206e-92)"
     },
     "execution_count": 98,
     "metadata": {},
     "output_type": "execute_result"
    }
   ],
   "source": [
    "scipy.stats.spearmanr(red_wine.alcohol, red_wine.quality)"
   ]
  },
  {
   "cell_type": "code",
   "execution_count": 99,
   "id": "2a80643f",
   "metadata": {},
   "outputs": [
    {
     "data": {
      "text/plain": "KendalltauResult(correlation=0.3803673050777581, pvalue=5.678405164264663e-84)"
     },
     "execution_count": 99,
     "metadata": {},
     "output_type": "execute_result"
    }
   ],
   "source": [
    "scipy.stats.kendalltau(red_wine.alcohol, red_wine.quality)"
   ]
  },
  {
   "cell_type": "code",
   "execution_count": 100,
   "id": "34626743",
   "metadata": {},
   "outputs": [
    {
     "data": {
      "text/plain": "array([[1.        , 0.43557472],\n       [0.43557472, 1.        ]])"
     },
     "execution_count": 100,
     "metadata": {},
     "output_type": "execute_result"
    }
   ],
   "source": [
    "alcohol_content_to_quality_white = np.corrcoef(white_wine.alcohol, white_wine.quality)\n",
    "alcohol_content_to_quality_white"
   ]
  },
  {
   "cell_type": "code",
   "execution_count": 101,
   "id": "6ba20cfb",
   "metadata": {},
   "outputs": [
    {
     "data": {
      "text/plain": "SpearmanrResult(correlation=0.44036918162468297, pvalue=1.6591955335864813e-231)"
     },
     "execution_count": 101,
     "metadata": {},
     "output_type": "execute_result"
    }
   ],
   "source": [
    "scipy.stats.spearmanr(white_wine.alcohol, white_wine.quality)"
   ]
  },
  {
   "cell_type": "code",
   "execution_count": 102,
   "id": "21d55e79",
   "metadata": {},
   "outputs": [
    {
     "data": {
      "text/plain": "KendalltauResult(correlation=0.3466721462937728, pvalue=2.756278659078433e-218)"
     },
     "execution_count": 102,
     "metadata": {},
     "output_type": "execute_result"
    }
   ],
   "source": [
    "scipy.stats.kendalltau(white_wine.alcohol, white_wine.quality)"
   ]
  },
  {
   "cell_type": "code",
   "execution_count": 102,
   "id": "95386ea5",
   "metadata": {},
   "outputs": [],
   "source": []
  }
 ],
 "metadata": {
  "kernelspec": {
   "display_name": "PyCharm (scientificProject)",
   "language": "python",
   "name": "pycharm-d3d04b0a"
  },
  "language_info": {
   "codemirror_mode": {
    "name": "ipython",
    "version": 3
   },
   "file_extension": ".py",
   "mimetype": "text/x-python",
   "name": "python",
   "nbconvert_exporter": "python",
   "pygments_lexer": "ipython3",
   "version": "3.9.5"
  }
 },
 "nbformat": 4,
 "nbformat_minor": 5
}