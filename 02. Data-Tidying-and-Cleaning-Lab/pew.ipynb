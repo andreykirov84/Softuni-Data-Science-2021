{
 "cells": [
  {
   "cell_type": "code",
   "execution_count": 35,
   "metadata": {},
   "outputs": [],
   "source": [
    "%matplotlib inline\n"
   ]
  },
  {
   "cell_type": "code",
   "execution_count": 36,
   "metadata": {
    "pycharm": {
     "name": "#%%\n"
    }
   },
   "outputs": [],
   "source": [
    "import numpy as np\n",
    "import pandas as pd\n",
    "import matplotlib.pyplot as plt\n"
   ]
  },
  {
   "cell_type": "code",
   "execution_count": 37,
   "metadata": {},
   "outputs": [],
   "source": [
    "pew = pd.read_csv('data/pew.csv')"
   ]
  },
  {
   "cell_type": "code",
   "execution_count": 38,
   "metadata": {},
   "outputs": [
    {
     "data": {
      "text/plain": "                   religion  <$10k  $10-20k  $20-30k  $30-40k  $40-50k  \\\n0                  Agnostic     27       34       60       81       76   \n1                   Atheist     12       27       37       52       35   \n2                  Buddhist     27       21       30       34       33   \n3                  Catholic    418      617      732      670      638   \n4        Don’t know/refused     15       14       15       11       10   \n5          Evangelical Prot    575      869     1064      982      881   \n6                     Hindu      1        9        7        9       11   \n7   Historically Black Prot    228      244      236      238      197   \n8         Jehovah's Witness     20       27       24       24       21   \n9                    Jewish     19       19       25       25       30   \n10            Mainline Prot    289      495      619      655      651   \n11                   Mormon     29       40       48       51       56   \n12                   Muslim      6        7        9       10        9   \n13                 Orthodox     13       17       23       32       32   \n14          Other Christian      9        7       11       13       13   \n15             Other Faiths     20       33       40       46       49   \n16    Other World Religions      5        2        3        4        2   \n17             Unaffiliated    217      299      374      365      341   \n\n    $50-75k  $75-100k  $100-150k  >150k  Don't know/refused  \n0       137       122        109     84                  96  \n1        70        73         59     74                  76  \n2        58        62         39     53                  54  \n3      1116       949        792    633                1489  \n4        35        21         17     18                 116  \n5      1486       949        723    414                1529  \n6        34        47         48     54                  37  \n7       223       131         81     78                 339  \n8        30        15         11      6                  37  \n9        95        69         87    151                 162  \n10     1107       939        753    634                1328  \n11      112        85         49     42                  69  \n12       23        16          8      6                  22  \n13       47        38         42     46                  73  \n14       14        18         14     12                  18  \n15       63        46         40     41                  71  \n16        7         3          4      4                   8  \n17      528       407        321    258                 597  ",
      "text/html": "<div>\n<style scoped>\n    .dataframe tbody tr th:only-of-type {\n        vertical-align: middle;\n    }\n\n    .dataframe tbody tr th {\n        vertical-align: top;\n    }\n\n    .dataframe thead th {\n        text-align: right;\n    }\n</style>\n<table border=\"1\" class=\"dataframe\">\n  <thead>\n    <tr style=\"text-align: right;\">\n      <th></th>\n      <th>religion</th>\n      <th>&lt;$10k</th>\n      <th>$10-20k</th>\n      <th>$20-30k</th>\n      <th>$30-40k</th>\n      <th>$40-50k</th>\n      <th>$50-75k</th>\n      <th>$75-100k</th>\n      <th>$100-150k</th>\n      <th>&gt;150k</th>\n      <th>Don't know/refused</th>\n    </tr>\n  </thead>\n  <tbody>\n    <tr>\n      <th>0</th>\n      <td>Agnostic</td>\n      <td>27</td>\n      <td>34</td>\n      <td>60</td>\n      <td>81</td>\n      <td>76</td>\n      <td>137</td>\n      <td>122</td>\n      <td>109</td>\n      <td>84</td>\n      <td>96</td>\n    </tr>\n    <tr>\n      <th>1</th>\n      <td>Atheist</td>\n      <td>12</td>\n      <td>27</td>\n      <td>37</td>\n      <td>52</td>\n      <td>35</td>\n      <td>70</td>\n      <td>73</td>\n      <td>59</td>\n      <td>74</td>\n      <td>76</td>\n    </tr>\n    <tr>\n      <th>2</th>\n      <td>Buddhist</td>\n      <td>27</td>\n      <td>21</td>\n      <td>30</td>\n      <td>34</td>\n      <td>33</td>\n      <td>58</td>\n      <td>62</td>\n      <td>39</td>\n      <td>53</td>\n      <td>54</td>\n    </tr>\n    <tr>\n      <th>3</th>\n      <td>Catholic</td>\n      <td>418</td>\n      <td>617</td>\n      <td>732</td>\n      <td>670</td>\n      <td>638</td>\n      <td>1116</td>\n      <td>949</td>\n      <td>792</td>\n      <td>633</td>\n      <td>1489</td>\n    </tr>\n    <tr>\n      <th>4</th>\n      <td>Don’t know/refused</td>\n      <td>15</td>\n      <td>14</td>\n      <td>15</td>\n      <td>11</td>\n      <td>10</td>\n      <td>35</td>\n      <td>21</td>\n      <td>17</td>\n      <td>18</td>\n      <td>116</td>\n    </tr>\n    <tr>\n      <th>5</th>\n      <td>Evangelical Prot</td>\n      <td>575</td>\n      <td>869</td>\n      <td>1064</td>\n      <td>982</td>\n      <td>881</td>\n      <td>1486</td>\n      <td>949</td>\n      <td>723</td>\n      <td>414</td>\n      <td>1529</td>\n    </tr>\n    <tr>\n      <th>6</th>\n      <td>Hindu</td>\n      <td>1</td>\n      <td>9</td>\n      <td>7</td>\n      <td>9</td>\n      <td>11</td>\n      <td>34</td>\n      <td>47</td>\n      <td>48</td>\n      <td>54</td>\n      <td>37</td>\n    </tr>\n    <tr>\n      <th>7</th>\n      <td>Historically Black Prot</td>\n      <td>228</td>\n      <td>244</td>\n      <td>236</td>\n      <td>238</td>\n      <td>197</td>\n      <td>223</td>\n      <td>131</td>\n      <td>81</td>\n      <td>78</td>\n      <td>339</td>\n    </tr>\n    <tr>\n      <th>8</th>\n      <td>Jehovah's Witness</td>\n      <td>20</td>\n      <td>27</td>\n      <td>24</td>\n      <td>24</td>\n      <td>21</td>\n      <td>30</td>\n      <td>15</td>\n      <td>11</td>\n      <td>6</td>\n      <td>37</td>\n    </tr>\n    <tr>\n      <th>9</th>\n      <td>Jewish</td>\n      <td>19</td>\n      <td>19</td>\n      <td>25</td>\n      <td>25</td>\n      <td>30</td>\n      <td>95</td>\n      <td>69</td>\n      <td>87</td>\n      <td>151</td>\n      <td>162</td>\n    </tr>\n    <tr>\n      <th>10</th>\n      <td>Mainline Prot</td>\n      <td>289</td>\n      <td>495</td>\n      <td>619</td>\n      <td>655</td>\n      <td>651</td>\n      <td>1107</td>\n      <td>939</td>\n      <td>753</td>\n      <td>634</td>\n      <td>1328</td>\n    </tr>\n    <tr>\n      <th>11</th>\n      <td>Mormon</td>\n      <td>29</td>\n      <td>40</td>\n      <td>48</td>\n      <td>51</td>\n      <td>56</td>\n      <td>112</td>\n      <td>85</td>\n      <td>49</td>\n      <td>42</td>\n      <td>69</td>\n    </tr>\n    <tr>\n      <th>12</th>\n      <td>Muslim</td>\n      <td>6</td>\n      <td>7</td>\n      <td>9</td>\n      <td>10</td>\n      <td>9</td>\n      <td>23</td>\n      <td>16</td>\n      <td>8</td>\n      <td>6</td>\n      <td>22</td>\n    </tr>\n    <tr>\n      <th>13</th>\n      <td>Orthodox</td>\n      <td>13</td>\n      <td>17</td>\n      <td>23</td>\n      <td>32</td>\n      <td>32</td>\n      <td>47</td>\n      <td>38</td>\n      <td>42</td>\n      <td>46</td>\n      <td>73</td>\n    </tr>\n    <tr>\n      <th>14</th>\n      <td>Other Christian</td>\n      <td>9</td>\n      <td>7</td>\n      <td>11</td>\n      <td>13</td>\n      <td>13</td>\n      <td>14</td>\n      <td>18</td>\n      <td>14</td>\n      <td>12</td>\n      <td>18</td>\n    </tr>\n    <tr>\n      <th>15</th>\n      <td>Other Faiths</td>\n      <td>20</td>\n      <td>33</td>\n      <td>40</td>\n      <td>46</td>\n      <td>49</td>\n      <td>63</td>\n      <td>46</td>\n      <td>40</td>\n      <td>41</td>\n      <td>71</td>\n    </tr>\n    <tr>\n      <th>16</th>\n      <td>Other World Religions</td>\n      <td>5</td>\n      <td>2</td>\n      <td>3</td>\n      <td>4</td>\n      <td>2</td>\n      <td>7</td>\n      <td>3</td>\n      <td>4</td>\n      <td>4</td>\n      <td>8</td>\n    </tr>\n    <tr>\n      <th>17</th>\n      <td>Unaffiliated</td>\n      <td>217</td>\n      <td>299</td>\n      <td>374</td>\n      <td>365</td>\n      <td>341</td>\n      <td>528</td>\n      <td>407</td>\n      <td>321</td>\n      <td>258</td>\n      <td>597</td>\n    </tr>\n  </tbody>\n</table>\n</div>"
     },
     "execution_count": 38,
     "metadata": {},
     "output_type": "execute_result"
    }
   ],
   "source": [
    "pew"
   ]
  },
  {
   "cell_type": "code",
   "execution_count": 39,
   "metadata": {},
   "outputs": [],
   "source": [
    "pew_tidy = pd.melt(pew, id_vars=['religion'], var_name='income', value_name='count' )"
   ]
  },
  {
   "cell_type": "code",
   "execution_count": 40,
   "metadata": {},
   "outputs": [
    {
     "data": {
      "text/plain": "                  religion              income  count\n0                 Agnostic               <$10k     27\n1                  Atheist               <$10k     12\n2                 Buddhist               <$10k     27\n3                 Catholic               <$10k    418\n4       Don’t know/refused               <$10k     15\n..                     ...                 ...    ...\n175               Orthodox  Don't know/refused     73\n176        Other Christian  Don't know/refused     18\n177           Other Faiths  Don't know/refused     71\n178  Other World Religions  Don't know/refused      8\n179           Unaffiliated  Don't know/refused    597\n\n[180 rows x 3 columns]",
      "text/html": "<div>\n<style scoped>\n    .dataframe tbody tr th:only-of-type {\n        vertical-align: middle;\n    }\n\n    .dataframe tbody tr th {\n        vertical-align: top;\n    }\n\n    .dataframe thead th {\n        text-align: right;\n    }\n</style>\n<table border=\"1\" class=\"dataframe\">\n  <thead>\n    <tr style=\"text-align: right;\">\n      <th></th>\n      <th>religion</th>\n      <th>income</th>\n      <th>count</th>\n    </tr>\n  </thead>\n  <tbody>\n    <tr>\n      <th>0</th>\n      <td>Agnostic</td>\n      <td>&lt;$10k</td>\n      <td>27</td>\n    </tr>\n    <tr>\n      <th>1</th>\n      <td>Atheist</td>\n      <td>&lt;$10k</td>\n      <td>12</td>\n    </tr>\n    <tr>\n      <th>2</th>\n      <td>Buddhist</td>\n      <td>&lt;$10k</td>\n      <td>27</td>\n    </tr>\n    <tr>\n      <th>3</th>\n      <td>Catholic</td>\n      <td>&lt;$10k</td>\n      <td>418</td>\n    </tr>\n    <tr>\n      <th>4</th>\n      <td>Don’t know/refused</td>\n      <td>&lt;$10k</td>\n      <td>15</td>\n    </tr>\n    <tr>\n      <th>...</th>\n      <td>...</td>\n      <td>...</td>\n      <td>...</td>\n    </tr>\n    <tr>\n      <th>175</th>\n      <td>Orthodox</td>\n      <td>Don't know/refused</td>\n      <td>73</td>\n    </tr>\n    <tr>\n      <th>176</th>\n      <td>Other Christian</td>\n      <td>Don't know/refused</td>\n      <td>18</td>\n    </tr>\n    <tr>\n      <th>177</th>\n      <td>Other Faiths</td>\n      <td>Don't know/refused</td>\n      <td>71</td>\n    </tr>\n    <tr>\n      <th>178</th>\n      <td>Other World Religions</td>\n      <td>Don't know/refused</td>\n      <td>8</td>\n    </tr>\n    <tr>\n      <th>179</th>\n      <td>Unaffiliated</td>\n      <td>Don't know/refused</td>\n      <td>597</td>\n    </tr>\n  </tbody>\n</table>\n<p>180 rows × 3 columns</p>\n</div>"
     },
     "execution_count": 40,
     "metadata": {},
     "output_type": "execute_result"
    }
   ],
   "source": [
    "pew_tidy"
   ]
  },
  {
   "cell_type": "code",
   "execution_count": 41,
   "metadata": {},
   "outputs": [
    {
     "data": {
      "text/plain": "religion    object\nincome      object\ncount        int64\ndtype: object"
     },
     "execution_count": 41,
     "metadata": {},
     "output_type": "execute_result"
    }
   ],
   "source": [
    "pew_tidy.dtypes"
   ]
  },
  {
   "cell_type": "code",
   "execution_count": 42,
   "metadata": {},
   "outputs": [
    {
     "data": {
      "text/plain": "religion    category\nincome      category\ncount          int64\ndtype: object"
     },
     "execution_count": 42,
     "metadata": {},
     "output_type": "execute_result"
    }
   ],
   "source": [
    "pew_tidy.religion = pd.Categorical(pew_tidy.religion)\n",
    "pew_tidy.income = pd.Categorical(pew_tidy.income)\n",
    "pew_tidy.dtypes"
   ]
  },
  {
   "cell_type": "code",
   "execution_count": 43,
   "metadata": {},
   "outputs": [
    {
     "data": {
      "text/plain": "     iso2  year  m04   m514   m014  m1524   m2534   m3544   m4554  m5564  ...  \\\n0      AD  1989  NaN    NaN    NaN    NaN     NaN     NaN     NaN    NaN  ...   \n1      AD  1990  NaN    NaN    NaN    NaN     NaN     NaN     NaN    NaN  ...   \n2      AD  1991  NaN    NaN    NaN    NaN     NaN     NaN     NaN    NaN  ...   \n3      AD  1992  NaN    NaN    NaN    NaN     NaN     NaN     NaN    NaN  ...   \n4      AD  1993  NaN    NaN    NaN    NaN     NaN     NaN     NaN    NaN  ...   \n...   ...   ...  ...    ...    ...    ...     ...     ...     ...    ...  ...   \n5764   ZW  2004  NaN    NaN  187.0  833.0  2908.0  2298.0  1056.0  366.0  ...   \n5765   ZW  2005  NaN    NaN  210.0  837.0  2264.0  1855.0   762.0  295.0  ...   \n5766   ZW  2006  NaN    NaN  215.0  736.0  2391.0  1939.0   896.0  348.0  ...   \n5767   ZW  2007  6.0  132.0  138.0  500.0  3693.0     0.0   716.0  292.0  ...   \n5768   ZW  2008  NaN    NaN  127.0  614.0     0.0  3316.0   704.0  263.0  ...   \n\n      f04   f514   f014   f1524   f2534   f3544  f4554  f5564    f65   fu  \n0     NaN    NaN    NaN     NaN     NaN     NaN    NaN    NaN    NaN  NaN  \n1     NaN    NaN    NaN     NaN     NaN     NaN    NaN    NaN    NaN  NaN  \n2     NaN    NaN    NaN     NaN     NaN     NaN    NaN    NaN    NaN  NaN  \n3     NaN    NaN    NaN     NaN     NaN     NaN    NaN    NaN    NaN  NaN  \n4     NaN    NaN    NaN     NaN     NaN     NaN    NaN    NaN    NaN  NaN  \n...   ...    ...    ...     ...     ...     ...    ...    ...    ...  ...  \n5764  NaN    NaN  225.0  1140.0  2858.0  1565.0  622.0  214.0  111.0  NaN  \n5765  NaN    NaN  269.0  1136.0  2242.0  1255.0  578.0  193.0  603.0  NaN  \n5766  NaN    NaN  237.0  1020.0  2424.0  1355.0  632.0  230.0   96.0  NaN  \n5767  7.0  178.0  185.0   739.0  3311.0     0.0  553.0  213.0   90.0  NaN  \n5768  NaN    NaN  145.0   840.0     0.0  2890.0  467.0  174.0  105.0  0.0  \n\n[5769 rows x 22 columns]",
      "text/html": "<div>\n<style scoped>\n    .dataframe tbody tr th:only-of-type {\n        vertical-align: middle;\n    }\n\n    .dataframe tbody tr th {\n        vertical-align: top;\n    }\n\n    .dataframe thead th {\n        text-align: right;\n    }\n</style>\n<table border=\"1\" class=\"dataframe\">\n  <thead>\n    <tr style=\"text-align: right;\">\n      <th></th>\n      <th>iso2</th>\n      <th>year</th>\n      <th>m04</th>\n      <th>m514</th>\n      <th>m014</th>\n      <th>m1524</th>\n      <th>m2534</th>\n      <th>m3544</th>\n      <th>m4554</th>\n      <th>m5564</th>\n      <th>...</th>\n      <th>f04</th>\n      <th>f514</th>\n      <th>f014</th>\n      <th>f1524</th>\n      <th>f2534</th>\n      <th>f3544</th>\n      <th>f4554</th>\n      <th>f5564</th>\n      <th>f65</th>\n      <th>fu</th>\n    </tr>\n  </thead>\n  <tbody>\n    <tr>\n      <th>0</th>\n      <td>AD</td>\n      <td>1989</td>\n      <td>NaN</td>\n      <td>NaN</td>\n      <td>NaN</td>\n      <td>NaN</td>\n      <td>NaN</td>\n      <td>NaN</td>\n      <td>NaN</td>\n      <td>NaN</td>\n      <td>...</td>\n      <td>NaN</td>\n      <td>NaN</td>\n      <td>NaN</td>\n      <td>NaN</td>\n      <td>NaN</td>\n      <td>NaN</td>\n      <td>NaN</td>\n      <td>NaN</td>\n      <td>NaN</td>\n      <td>NaN</td>\n    </tr>\n    <tr>\n      <th>1</th>\n      <td>AD</td>\n      <td>1990</td>\n      <td>NaN</td>\n      <td>NaN</td>\n      <td>NaN</td>\n      <td>NaN</td>\n      <td>NaN</td>\n      <td>NaN</td>\n      <td>NaN</td>\n      <td>NaN</td>\n      <td>...</td>\n      <td>NaN</td>\n      <td>NaN</td>\n      <td>NaN</td>\n      <td>NaN</td>\n      <td>NaN</td>\n      <td>NaN</td>\n      <td>NaN</td>\n      <td>NaN</td>\n      <td>NaN</td>\n      <td>NaN</td>\n    </tr>\n    <tr>\n      <th>2</th>\n      <td>AD</td>\n      <td>1991</td>\n      <td>NaN</td>\n      <td>NaN</td>\n      <td>NaN</td>\n      <td>NaN</td>\n      <td>NaN</td>\n      <td>NaN</td>\n      <td>NaN</td>\n      <td>NaN</td>\n      <td>...</td>\n      <td>NaN</td>\n      <td>NaN</td>\n      <td>NaN</td>\n      <td>NaN</td>\n      <td>NaN</td>\n      <td>NaN</td>\n      <td>NaN</td>\n      <td>NaN</td>\n      <td>NaN</td>\n      <td>NaN</td>\n    </tr>\n    <tr>\n      <th>3</th>\n      <td>AD</td>\n      <td>1992</td>\n      <td>NaN</td>\n      <td>NaN</td>\n      <td>NaN</td>\n      <td>NaN</td>\n      <td>NaN</td>\n      <td>NaN</td>\n      <td>NaN</td>\n      <td>NaN</td>\n      <td>...</td>\n      <td>NaN</td>\n      <td>NaN</td>\n      <td>NaN</td>\n      <td>NaN</td>\n      <td>NaN</td>\n      <td>NaN</td>\n      <td>NaN</td>\n      <td>NaN</td>\n      <td>NaN</td>\n      <td>NaN</td>\n    </tr>\n    <tr>\n      <th>4</th>\n      <td>AD</td>\n      <td>1993</td>\n      <td>NaN</td>\n      <td>NaN</td>\n      <td>NaN</td>\n      <td>NaN</td>\n      <td>NaN</td>\n      <td>NaN</td>\n      <td>NaN</td>\n      <td>NaN</td>\n      <td>...</td>\n      <td>NaN</td>\n      <td>NaN</td>\n      <td>NaN</td>\n      <td>NaN</td>\n      <td>NaN</td>\n      <td>NaN</td>\n      <td>NaN</td>\n      <td>NaN</td>\n      <td>NaN</td>\n      <td>NaN</td>\n    </tr>\n    <tr>\n      <th>...</th>\n      <td>...</td>\n      <td>...</td>\n      <td>...</td>\n      <td>...</td>\n      <td>...</td>\n      <td>...</td>\n      <td>...</td>\n      <td>...</td>\n      <td>...</td>\n      <td>...</td>\n      <td>...</td>\n      <td>...</td>\n      <td>...</td>\n      <td>...</td>\n      <td>...</td>\n      <td>...</td>\n      <td>...</td>\n      <td>...</td>\n      <td>...</td>\n      <td>...</td>\n      <td>...</td>\n    </tr>\n    <tr>\n      <th>5764</th>\n      <td>ZW</td>\n      <td>2004</td>\n      <td>NaN</td>\n      <td>NaN</td>\n      <td>187.0</td>\n      <td>833.0</td>\n      <td>2908.0</td>\n      <td>2298.0</td>\n      <td>1056.0</td>\n      <td>366.0</td>\n      <td>...</td>\n      <td>NaN</td>\n      <td>NaN</td>\n      <td>225.0</td>\n      <td>1140.0</td>\n      <td>2858.0</td>\n      <td>1565.0</td>\n      <td>622.0</td>\n      <td>214.0</td>\n      <td>111.0</td>\n      <td>NaN</td>\n    </tr>\n    <tr>\n      <th>5765</th>\n      <td>ZW</td>\n      <td>2005</td>\n      <td>NaN</td>\n      <td>NaN</td>\n      <td>210.0</td>\n      <td>837.0</td>\n      <td>2264.0</td>\n      <td>1855.0</td>\n      <td>762.0</td>\n      <td>295.0</td>\n      <td>...</td>\n      <td>NaN</td>\n      <td>NaN</td>\n      <td>269.0</td>\n      <td>1136.0</td>\n      <td>2242.0</td>\n      <td>1255.0</td>\n      <td>578.0</td>\n      <td>193.0</td>\n      <td>603.0</td>\n      <td>NaN</td>\n    </tr>\n    <tr>\n      <th>5766</th>\n      <td>ZW</td>\n      <td>2006</td>\n      <td>NaN</td>\n      <td>NaN</td>\n      <td>215.0</td>\n      <td>736.0</td>\n      <td>2391.0</td>\n      <td>1939.0</td>\n      <td>896.0</td>\n      <td>348.0</td>\n      <td>...</td>\n      <td>NaN</td>\n      <td>NaN</td>\n      <td>237.0</td>\n      <td>1020.0</td>\n      <td>2424.0</td>\n      <td>1355.0</td>\n      <td>632.0</td>\n      <td>230.0</td>\n      <td>96.0</td>\n      <td>NaN</td>\n    </tr>\n    <tr>\n      <th>5767</th>\n      <td>ZW</td>\n      <td>2007</td>\n      <td>6.0</td>\n      <td>132.0</td>\n      <td>138.0</td>\n      <td>500.0</td>\n      <td>3693.0</td>\n      <td>0.0</td>\n      <td>716.0</td>\n      <td>292.0</td>\n      <td>...</td>\n      <td>7.0</td>\n      <td>178.0</td>\n      <td>185.0</td>\n      <td>739.0</td>\n      <td>3311.0</td>\n      <td>0.0</td>\n      <td>553.0</td>\n      <td>213.0</td>\n      <td>90.0</td>\n      <td>NaN</td>\n    </tr>\n    <tr>\n      <th>5768</th>\n      <td>ZW</td>\n      <td>2008</td>\n      <td>NaN</td>\n      <td>NaN</td>\n      <td>127.0</td>\n      <td>614.0</td>\n      <td>0.0</td>\n      <td>3316.0</td>\n      <td>704.0</td>\n      <td>263.0</td>\n      <td>...</td>\n      <td>NaN</td>\n      <td>NaN</td>\n      <td>145.0</td>\n      <td>840.0</td>\n      <td>0.0</td>\n      <td>2890.0</td>\n      <td>467.0</td>\n      <td>174.0</td>\n      <td>105.0</td>\n      <td>0.0</td>\n    </tr>\n  </tbody>\n</table>\n<p>5769 rows × 22 columns</p>\n</div>"
     },
     "execution_count": 43,
     "metadata": {},
     "output_type": "execute_result"
    }
   ],
   "source": [
    "tb = pd.read_csv('data/tb.csv')\n",
    "tb"
   ]
  },
  {
   "cell_type": "code",
   "execution_count": 44,
   "metadata": {},
   "outputs": [
    {
     "data": {
      "text/plain": "        count         mean          std     min     25%     50%      75%  \\\nyear   5769.0  1994.229329     8.423265  1980.0  1987.0  1994.0  2002.00   \nm04     392.0     8.806122    46.094789     0.0     0.0     0.0     2.00   \nm514    401.0    28.975062   127.881505     0.0     0.0     1.0     8.00   \nm014   2381.0    79.438051   280.489536     0.0     0.0     6.0    36.00   \nm1524  2407.0   922.364769  4278.638975     0.0    10.0    92.0   511.50   \nm2534  2408.0  1301.894518  5253.398971     0.0    15.0   151.5   728.00   \nm3544  2415.0  1205.566046  5409.064589     0.0    16.0   134.0   591.50   \nm4554  2421.0   983.515489  4780.782748     0.0    13.0    98.0   434.00   \nm5564  2414.0   696.171914  3771.934518     0.0     9.0    62.0   273.75   \nm65    2408.0   609.440615  3660.224592     0.0     8.0    53.0   227.25   \nmu      273.0     5.710623    85.713531     0.0     0.0     0.0     0.00   \nf04     393.0     6.417303    39.630100     0.0     0.0     0.0     1.00   \nf514    404.0    39.185644   170.491532     0.0     0.0     2.0    13.25   \nf014   2378.0   106.341043   435.889885     0.0     1.0     7.0    50.00   \nf1524  2394.0   758.737260  3153.018686     0.0     8.0    68.0   427.00   \nf2534  2400.0   856.087500  3295.220001     0.0    10.0    86.0   477.50   \nf3544  2398.0   586.597998  2293.956123     0.0     7.0    59.0   309.00   \nf4554  2401.0   400.376510  1589.955543     0.0     5.0    38.0   216.00   \nf5564  2394.0   276.178363  1191.728829     0.0     4.0    25.0   144.75   \nf65    2396.0   255.307596  1138.763846     0.0     5.0    29.0   124.00   \nfu      272.0     2.540441    38.261653     0.0     0.0     0.0     0.00   \n\n           max  \nyear    2008.0  \nm04      655.0  \nm514    1519.0  \nm014    4648.0  \nm1524  77121.0  \nm2534  83850.0  \nm3544  90498.0  \nm4554  78815.0  \nm5564  57492.0  \nm65    70376.0  \nmu      1416.0  \nf04      620.0  \nf514    2062.0  \nf014    8319.0  \nf1524  51485.0  \nf2534  49887.0  \nf3544  33664.0  \nf4554  21486.0  \nf5564  18203.0  \nf65    21339.0  \nfu       631.0  ",
      "text/html": "<div>\n<style scoped>\n    .dataframe tbody tr th:only-of-type {\n        vertical-align: middle;\n    }\n\n    .dataframe tbody tr th {\n        vertical-align: top;\n    }\n\n    .dataframe thead th {\n        text-align: right;\n    }\n</style>\n<table border=\"1\" class=\"dataframe\">\n  <thead>\n    <tr style=\"text-align: right;\">\n      <th></th>\n      <th>count</th>\n      <th>mean</th>\n      <th>std</th>\n      <th>min</th>\n      <th>25%</th>\n      <th>50%</th>\n      <th>75%</th>\n      <th>max</th>\n    </tr>\n  </thead>\n  <tbody>\n    <tr>\n      <th>year</th>\n      <td>5769.0</td>\n      <td>1994.229329</td>\n      <td>8.423265</td>\n      <td>1980.0</td>\n      <td>1987.0</td>\n      <td>1994.0</td>\n      <td>2002.00</td>\n      <td>2008.0</td>\n    </tr>\n    <tr>\n      <th>m04</th>\n      <td>392.0</td>\n      <td>8.806122</td>\n      <td>46.094789</td>\n      <td>0.0</td>\n      <td>0.0</td>\n      <td>0.0</td>\n      <td>2.00</td>\n      <td>655.0</td>\n    </tr>\n    <tr>\n      <th>m514</th>\n      <td>401.0</td>\n      <td>28.975062</td>\n      <td>127.881505</td>\n      <td>0.0</td>\n      <td>0.0</td>\n      <td>1.0</td>\n      <td>8.00</td>\n      <td>1519.0</td>\n    </tr>\n    <tr>\n      <th>m014</th>\n      <td>2381.0</td>\n      <td>79.438051</td>\n      <td>280.489536</td>\n      <td>0.0</td>\n      <td>0.0</td>\n      <td>6.0</td>\n      <td>36.00</td>\n      <td>4648.0</td>\n    </tr>\n    <tr>\n      <th>m1524</th>\n      <td>2407.0</td>\n      <td>922.364769</td>\n      <td>4278.638975</td>\n      <td>0.0</td>\n      <td>10.0</td>\n      <td>92.0</td>\n      <td>511.50</td>\n      <td>77121.0</td>\n    </tr>\n    <tr>\n      <th>m2534</th>\n      <td>2408.0</td>\n      <td>1301.894518</td>\n      <td>5253.398971</td>\n      <td>0.0</td>\n      <td>15.0</td>\n      <td>151.5</td>\n      <td>728.00</td>\n      <td>83850.0</td>\n    </tr>\n    <tr>\n      <th>m3544</th>\n      <td>2415.0</td>\n      <td>1205.566046</td>\n      <td>5409.064589</td>\n      <td>0.0</td>\n      <td>16.0</td>\n      <td>134.0</td>\n      <td>591.50</td>\n      <td>90498.0</td>\n    </tr>\n    <tr>\n      <th>m4554</th>\n      <td>2421.0</td>\n      <td>983.515489</td>\n      <td>4780.782748</td>\n      <td>0.0</td>\n      <td>13.0</td>\n      <td>98.0</td>\n      <td>434.00</td>\n      <td>78815.0</td>\n    </tr>\n    <tr>\n      <th>m5564</th>\n      <td>2414.0</td>\n      <td>696.171914</td>\n      <td>3771.934518</td>\n      <td>0.0</td>\n      <td>9.0</td>\n      <td>62.0</td>\n      <td>273.75</td>\n      <td>57492.0</td>\n    </tr>\n    <tr>\n      <th>m65</th>\n      <td>2408.0</td>\n      <td>609.440615</td>\n      <td>3660.224592</td>\n      <td>0.0</td>\n      <td>8.0</td>\n      <td>53.0</td>\n      <td>227.25</td>\n      <td>70376.0</td>\n    </tr>\n    <tr>\n      <th>mu</th>\n      <td>273.0</td>\n      <td>5.710623</td>\n      <td>85.713531</td>\n      <td>0.0</td>\n      <td>0.0</td>\n      <td>0.0</td>\n      <td>0.00</td>\n      <td>1416.0</td>\n    </tr>\n    <tr>\n      <th>f04</th>\n      <td>393.0</td>\n      <td>6.417303</td>\n      <td>39.630100</td>\n      <td>0.0</td>\n      <td>0.0</td>\n      <td>0.0</td>\n      <td>1.00</td>\n      <td>620.0</td>\n    </tr>\n    <tr>\n      <th>f514</th>\n      <td>404.0</td>\n      <td>39.185644</td>\n      <td>170.491532</td>\n      <td>0.0</td>\n      <td>0.0</td>\n      <td>2.0</td>\n      <td>13.25</td>\n      <td>2062.0</td>\n    </tr>\n    <tr>\n      <th>f014</th>\n      <td>2378.0</td>\n      <td>106.341043</td>\n      <td>435.889885</td>\n      <td>0.0</td>\n      <td>1.0</td>\n      <td>7.0</td>\n      <td>50.00</td>\n      <td>8319.0</td>\n    </tr>\n    <tr>\n      <th>f1524</th>\n      <td>2394.0</td>\n      <td>758.737260</td>\n      <td>3153.018686</td>\n      <td>0.0</td>\n      <td>8.0</td>\n      <td>68.0</td>\n      <td>427.00</td>\n      <td>51485.0</td>\n    </tr>\n    <tr>\n      <th>f2534</th>\n      <td>2400.0</td>\n      <td>856.087500</td>\n      <td>3295.220001</td>\n      <td>0.0</td>\n      <td>10.0</td>\n      <td>86.0</td>\n      <td>477.50</td>\n      <td>49887.0</td>\n    </tr>\n    <tr>\n      <th>f3544</th>\n      <td>2398.0</td>\n      <td>586.597998</td>\n      <td>2293.956123</td>\n      <td>0.0</td>\n      <td>7.0</td>\n      <td>59.0</td>\n      <td>309.00</td>\n      <td>33664.0</td>\n    </tr>\n    <tr>\n      <th>f4554</th>\n      <td>2401.0</td>\n      <td>400.376510</td>\n      <td>1589.955543</td>\n      <td>0.0</td>\n      <td>5.0</td>\n      <td>38.0</td>\n      <td>216.00</td>\n      <td>21486.0</td>\n    </tr>\n    <tr>\n      <th>f5564</th>\n      <td>2394.0</td>\n      <td>276.178363</td>\n      <td>1191.728829</td>\n      <td>0.0</td>\n      <td>4.0</td>\n      <td>25.0</td>\n      <td>144.75</td>\n      <td>18203.0</td>\n    </tr>\n    <tr>\n      <th>f65</th>\n      <td>2396.0</td>\n      <td>255.307596</td>\n      <td>1138.763846</td>\n      <td>0.0</td>\n      <td>5.0</td>\n      <td>29.0</td>\n      <td>124.00</td>\n      <td>21339.0</td>\n    </tr>\n    <tr>\n      <th>fu</th>\n      <td>272.0</td>\n      <td>2.540441</td>\n      <td>38.261653</td>\n      <td>0.0</td>\n      <td>0.0</td>\n      <td>0.0</td>\n      <td>0.00</td>\n      <td>631.0</td>\n    </tr>\n  </tbody>\n</table>\n</div>"
     },
     "execution_count": 44,
     "metadata": {},
     "output_type": "execute_result"
    }
   ],
   "source": [
    "tb.describe().T"
   ]
  },
  {
   "cell_type": "code",
   "execution_count": 45,
   "metadata": {},
   "outputs": [
    {
     "data": {
      "text/plain": "       iso2  year variable  value\n0        AD  1989      m04    NaN\n1        AD  1990      m04    NaN\n2        AD  1991      m04    NaN\n3        AD  1992      m04    NaN\n4        AD  1993      m04    NaN\n...     ...   ...      ...    ...\n115375   ZW  2004       fu    NaN\n115376   ZW  2005       fu    NaN\n115377   ZW  2006       fu    NaN\n115378   ZW  2007       fu    NaN\n115379   ZW  2008       fu    0.0\n\n[115380 rows x 4 columns]",
      "text/html": "<div>\n<style scoped>\n    .dataframe tbody tr th:only-of-type {\n        vertical-align: middle;\n    }\n\n    .dataframe tbody tr th {\n        vertical-align: top;\n    }\n\n    .dataframe thead th {\n        text-align: right;\n    }\n</style>\n<table border=\"1\" class=\"dataframe\">\n  <thead>\n    <tr style=\"text-align: right;\">\n      <th></th>\n      <th>iso2</th>\n      <th>year</th>\n      <th>variable</th>\n      <th>value</th>\n    </tr>\n  </thead>\n  <tbody>\n    <tr>\n      <th>0</th>\n      <td>AD</td>\n      <td>1989</td>\n      <td>m04</td>\n      <td>NaN</td>\n    </tr>\n    <tr>\n      <th>1</th>\n      <td>AD</td>\n      <td>1990</td>\n      <td>m04</td>\n      <td>NaN</td>\n    </tr>\n    <tr>\n      <th>2</th>\n      <td>AD</td>\n      <td>1991</td>\n      <td>m04</td>\n      <td>NaN</td>\n    </tr>\n    <tr>\n      <th>3</th>\n      <td>AD</td>\n      <td>1992</td>\n      <td>m04</td>\n      <td>NaN</td>\n    </tr>\n    <tr>\n      <th>4</th>\n      <td>AD</td>\n      <td>1993</td>\n      <td>m04</td>\n      <td>NaN</td>\n    </tr>\n    <tr>\n      <th>...</th>\n      <td>...</td>\n      <td>...</td>\n      <td>...</td>\n      <td>...</td>\n    </tr>\n    <tr>\n      <th>115375</th>\n      <td>ZW</td>\n      <td>2004</td>\n      <td>fu</td>\n      <td>NaN</td>\n    </tr>\n    <tr>\n      <th>115376</th>\n      <td>ZW</td>\n      <td>2005</td>\n      <td>fu</td>\n      <td>NaN</td>\n    </tr>\n    <tr>\n      <th>115377</th>\n      <td>ZW</td>\n      <td>2006</td>\n      <td>fu</td>\n      <td>NaN</td>\n    </tr>\n    <tr>\n      <th>115378</th>\n      <td>ZW</td>\n      <td>2007</td>\n      <td>fu</td>\n      <td>NaN</td>\n    </tr>\n    <tr>\n      <th>115379</th>\n      <td>ZW</td>\n      <td>2008</td>\n      <td>fu</td>\n      <td>0.0</td>\n    </tr>\n  </tbody>\n</table>\n<p>115380 rows × 4 columns</p>\n</div>"
     },
     "execution_count": 45,
     "metadata": {},
     "output_type": "execute_result"
    }
   ],
   "source": [
    "tb_tidy = pd.melt(tb, id_vars = ['iso2', 'year'])\n",
    "tb_tidy "
   ]
  },
  {
   "cell_type": "code",
   "execution_count": 46,
   "metadata": {},
   "outputs": [
    {
     "data": {
      "text/plain": "       iso2  year variable  value\n0        AD  1989      m04    NaN\n1        AD  1990      m04    NaN\n2        AD  1991      m04    NaN\n3        AD  1992      m04    NaN\n4        AD  1993      m04    NaN\n...     ...   ...      ...    ...\n115375   ZW  2004       fu    NaN\n115376   ZW  2005       fu    NaN\n115377   ZW  2006       fu    NaN\n115378   ZW  2007       fu    NaN\n115379   ZW  2008       fu    0.0\n\n[115380 rows x 4 columns]",
      "text/html": "<div>\n<style scoped>\n    .dataframe tbody tr th:only-of-type {\n        vertical-align: middle;\n    }\n\n    .dataframe tbody tr th {\n        vertical-align: top;\n    }\n\n    .dataframe thead th {\n        text-align: right;\n    }\n</style>\n<table border=\"1\" class=\"dataframe\">\n  <thead>\n    <tr style=\"text-align: right;\">\n      <th></th>\n      <th>iso2</th>\n      <th>year</th>\n      <th>variable</th>\n      <th>value</th>\n    </tr>\n  </thead>\n  <tbody>\n    <tr>\n      <th>0</th>\n      <td>AD</td>\n      <td>1989</td>\n      <td>m04</td>\n      <td>NaN</td>\n    </tr>\n    <tr>\n      <th>1</th>\n      <td>AD</td>\n      <td>1990</td>\n      <td>m04</td>\n      <td>NaN</td>\n    </tr>\n    <tr>\n      <th>2</th>\n      <td>AD</td>\n      <td>1991</td>\n      <td>m04</td>\n      <td>NaN</td>\n    </tr>\n    <tr>\n      <th>3</th>\n      <td>AD</td>\n      <td>1992</td>\n      <td>m04</td>\n      <td>NaN</td>\n    </tr>\n    <tr>\n      <th>4</th>\n      <td>AD</td>\n      <td>1993</td>\n      <td>m04</td>\n      <td>NaN</td>\n    </tr>\n    <tr>\n      <th>...</th>\n      <td>...</td>\n      <td>...</td>\n      <td>...</td>\n      <td>...</td>\n    </tr>\n    <tr>\n      <th>115375</th>\n      <td>ZW</td>\n      <td>2004</td>\n      <td>fu</td>\n      <td>NaN</td>\n    </tr>\n    <tr>\n      <th>115376</th>\n      <td>ZW</td>\n      <td>2005</td>\n      <td>fu</td>\n      <td>NaN</td>\n    </tr>\n    <tr>\n      <th>115377</th>\n      <td>ZW</td>\n      <td>2006</td>\n      <td>fu</td>\n      <td>NaN</td>\n    </tr>\n    <tr>\n      <th>115378</th>\n      <td>ZW</td>\n      <td>2007</td>\n      <td>fu</td>\n      <td>NaN</td>\n    </tr>\n    <tr>\n      <th>115379</th>\n      <td>ZW</td>\n      <td>2008</td>\n      <td>fu</td>\n      <td>0.0</td>\n    </tr>\n  </tbody>\n</table>\n<p>115380 rows × 4 columns</p>\n</div>"
     },
     "execution_count": 46,
     "metadata": {},
     "output_type": "execute_result"
    }
   ],
   "source": [
    "tb_tidy.dropna()\n",
    "tb_tidy"
   ]
  },
  {
   "cell_type": "code",
   "execution_count": 47,
   "metadata": {},
   "outputs": [
    {
     "data": {
      "text/plain": "       iso2  year sex_and_age  cases\n0        AD  1989         m04    NaN\n1        AD  1990         m04    NaN\n2        AD  1991         m04    NaN\n3        AD  1992         m04    NaN\n4        AD  1993         m04    NaN\n...     ...   ...         ...    ...\n115375   ZW  2004          fu    NaN\n115376   ZW  2005          fu    NaN\n115377   ZW  2006          fu    NaN\n115378   ZW  2007          fu    NaN\n115379   ZW  2008          fu    0.0\n\n[115380 rows x 4 columns]",
      "text/html": "<div>\n<style scoped>\n    .dataframe tbody tr th:only-of-type {\n        vertical-align: middle;\n    }\n\n    .dataframe tbody tr th {\n        vertical-align: top;\n    }\n\n    .dataframe thead th {\n        text-align: right;\n    }\n</style>\n<table border=\"1\" class=\"dataframe\">\n  <thead>\n    <tr style=\"text-align: right;\">\n      <th></th>\n      <th>iso2</th>\n      <th>year</th>\n      <th>sex_and_age</th>\n      <th>cases</th>\n    </tr>\n  </thead>\n  <tbody>\n    <tr>\n      <th>0</th>\n      <td>AD</td>\n      <td>1989</td>\n      <td>m04</td>\n      <td>NaN</td>\n    </tr>\n    <tr>\n      <th>1</th>\n      <td>AD</td>\n      <td>1990</td>\n      <td>m04</td>\n      <td>NaN</td>\n    </tr>\n    <tr>\n      <th>2</th>\n      <td>AD</td>\n      <td>1991</td>\n      <td>m04</td>\n      <td>NaN</td>\n    </tr>\n    <tr>\n      <th>3</th>\n      <td>AD</td>\n      <td>1992</td>\n      <td>m04</td>\n      <td>NaN</td>\n    </tr>\n    <tr>\n      <th>4</th>\n      <td>AD</td>\n      <td>1993</td>\n      <td>m04</td>\n      <td>NaN</td>\n    </tr>\n    <tr>\n      <th>...</th>\n      <td>...</td>\n      <td>...</td>\n      <td>...</td>\n      <td>...</td>\n    </tr>\n    <tr>\n      <th>115375</th>\n      <td>ZW</td>\n      <td>2004</td>\n      <td>fu</td>\n      <td>NaN</td>\n    </tr>\n    <tr>\n      <th>115376</th>\n      <td>ZW</td>\n      <td>2005</td>\n      <td>fu</td>\n      <td>NaN</td>\n    </tr>\n    <tr>\n      <th>115377</th>\n      <td>ZW</td>\n      <td>2006</td>\n      <td>fu</td>\n      <td>NaN</td>\n    </tr>\n    <tr>\n      <th>115378</th>\n      <td>ZW</td>\n      <td>2007</td>\n      <td>fu</td>\n      <td>NaN</td>\n    </tr>\n    <tr>\n      <th>115379</th>\n      <td>ZW</td>\n      <td>2008</td>\n      <td>fu</td>\n      <td>0.0</td>\n    </tr>\n  </tbody>\n</table>\n<p>115380 rows × 4 columns</p>\n</div>"
     },
     "execution_count": 47,
     "metadata": {},
     "output_type": "execute_result"
    }
   ],
   "source": [
    "tb_tidy = pd.melt(tb, id_vars = ['iso2', 'year'], var_name='sex_and_age', value_name='cases')\n",
    "tb_tidy"
   ]
  },
  {
   "cell_type": "code",
   "execution_count": 48,
   "metadata": {},
   "outputs": [],
   "source": [
    "parts = tb_tidy[\"sex_and_age\"].str.extract(\"(\\D)(\\d+)(\\d{2})\", expand = True)\n",
    "parts.columns = [\"sex\", \"age_lower\", \"age_upper\"]\n",
    "parts[\"age\"] = parts[\"age_lower\"] + \"-\" + parts[\"age_upper\"]\n",
    "tb_tidy = pd.concat([tb_tidy, parts], axis = 1)\n"
   ]
  },
  {
   "cell_type": "code",
   "execution_count": 49,
   "metadata": {},
   "outputs": [
    {
     "data": {
      "text/plain": "       iso2  year sex_and_age  cases  sex age_lower age_upper  age\n0        AD  1989         m04    NaN  NaN       NaN       NaN  NaN\n1        AD  1990         m04    NaN  NaN       NaN       NaN  NaN\n2        AD  1991         m04    NaN  NaN       NaN       NaN  NaN\n3        AD  1992         m04    NaN  NaN       NaN       NaN  NaN\n4        AD  1993         m04    NaN  NaN       NaN       NaN  NaN\n...     ...   ...         ...    ...  ...       ...       ...  ...\n115375   ZW  2004          fu    NaN  NaN       NaN       NaN  NaN\n115376   ZW  2005          fu    NaN  NaN       NaN       NaN  NaN\n115377   ZW  2006          fu    NaN  NaN       NaN       NaN  NaN\n115378   ZW  2007          fu    NaN  NaN       NaN       NaN  NaN\n115379   ZW  2008          fu    0.0  NaN       NaN       NaN  NaN\n\n[115380 rows x 8 columns]",
      "text/html": "<div>\n<style scoped>\n    .dataframe tbody tr th:only-of-type {\n        vertical-align: middle;\n    }\n\n    .dataframe tbody tr th {\n        vertical-align: top;\n    }\n\n    .dataframe thead th {\n        text-align: right;\n    }\n</style>\n<table border=\"1\" class=\"dataframe\">\n  <thead>\n    <tr style=\"text-align: right;\">\n      <th></th>\n      <th>iso2</th>\n      <th>year</th>\n      <th>sex_and_age</th>\n      <th>cases</th>\n      <th>sex</th>\n      <th>age_lower</th>\n      <th>age_upper</th>\n      <th>age</th>\n    </tr>\n  </thead>\n  <tbody>\n    <tr>\n      <th>0</th>\n      <td>AD</td>\n      <td>1989</td>\n      <td>m04</td>\n      <td>NaN</td>\n      <td>NaN</td>\n      <td>NaN</td>\n      <td>NaN</td>\n      <td>NaN</td>\n    </tr>\n    <tr>\n      <th>1</th>\n      <td>AD</td>\n      <td>1990</td>\n      <td>m04</td>\n      <td>NaN</td>\n      <td>NaN</td>\n      <td>NaN</td>\n      <td>NaN</td>\n      <td>NaN</td>\n    </tr>\n    <tr>\n      <th>2</th>\n      <td>AD</td>\n      <td>1991</td>\n      <td>m04</td>\n      <td>NaN</td>\n      <td>NaN</td>\n      <td>NaN</td>\n      <td>NaN</td>\n      <td>NaN</td>\n    </tr>\n    <tr>\n      <th>3</th>\n      <td>AD</td>\n      <td>1992</td>\n      <td>m04</td>\n      <td>NaN</td>\n      <td>NaN</td>\n      <td>NaN</td>\n      <td>NaN</td>\n      <td>NaN</td>\n    </tr>\n    <tr>\n      <th>4</th>\n      <td>AD</td>\n      <td>1993</td>\n      <td>m04</td>\n      <td>NaN</td>\n      <td>NaN</td>\n      <td>NaN</td>\n      <td>NaN</td>\n      <td>NaN</td>\n    </tr>\n    <tr>\n      <th>...</th>\n      <td>...</td>\n      <td>...</td>\n      <td>...</td>\n      <td>...</td>\n      <td>...</td>\n      <td>...</td>\n      <td>...</td>\n      <td>...</td>\n    </tr>\n    <tr>\n      <th>115375</th>\n      <td>ZW</td>\n      <td>2004</td>\n      <td>fu</td>\n      <td>NaN</td>\n      <td>NaN</td>\n      <td>NaN</td>\n      <td>NaN</td>\n      <td>NaN</td>\n    </tr>\n    <tr>\n      <th>115376</th>\n      <td>ZW</td>\n      <td>2005</td>\n      <td>fu</td>\n      <td>NaN</td>\n      <td>NaN</td>\n      <td>NaN</td>\n      <td>NaN</td>\n      <td>NaN</td>\n    </tr>\n    <tr>\n      <th>115377</th>\n      <td>ZW</td>\n      <td>2006</td>\n      <td>fu</td>\n      <td>NaN</td>\n      <td>NaN</td>\n      <td>NaN</td>\n      <td>NaN</td>\n      <td>NaN</td>\n    </tr>\n    <tr>\n      <th>115378</th>\n      <td>ZW</td>\n      <td>2007</td>\n      <td>fu</td>\n      <td>NaN</td>\n      <td>NaN</td>\n      <td>NaN</td>\n      <td>NaN</td>\n      <td>NaN</td>\n    </tr>\n    <tr>\n      <th>115379</th>\n      <td>ZW</td>\n      <td>2008</td>\n      <td>fu</td>\n      <td>0.0</td>\n      <td>NaN</td>\n      <td>NaN</td>\n      <td>NaN</td>\n      <td>NaN</td>\n    </tr>\n  </tbody>\n</table>\n<p>115380 rows × 8 columns</p>\n</div>"
     },
     "execution_count": 49,
     "metadata": {},
     "output_type": "execute_result"
    }
   ],
   "source": [
    "tb_tidy"
   ]
  },
  {
   "cell_type": "code",
   "execution_count": 50,
   "metadata": {},
   "outputs": [
    {
     "data": {
      "text/plain": "      iso2  year   cases sex    age\n69234   AD  1996     0.0   f   0-14\n75003   AD  1996     1.0   f  15-24\n80772   AD  1996     1.0   f  25-34\n86541   AD  1996     0.0   f  35-44\n92310   AD  1996     0.0   f  45-54\n...    ...   ...     ...  ..    ...\n23075   ZW  2008   614.0   m  15-24\n28844   ZW  2008     0.0   m  25-34\n34613   ZW  2008  3316.0   m  35-44\n40382   ZW  2008   704.0   m  45-54\n46151   ZW  2008   263.0   m  55-64\n\n[29448 rows x 5 columns]",
      "text/html": "<div>\n<style scoped>\n    .dataframe tbody tr th:only-of-type {\n        vertical-align: middle;\n    }\n\n    .dataframe tbody tr th {\n        vertical-align: top;\n    }\n\n    .dataframe thead th {\n        text-align: right;\n    }\n</style>\n<table border=\"1\" class=\"dataframe\">\n  <thead>\n    <tr style=\"text-align: right;\">\n      <th></th>\n      <th>iso2</th>\n      <th>year</th>\n      <th>cases</th>\n      <th>sex</th>\n      <th>age</th>\n    </tr>\n  </thead>\n  <tbody>\n    <tr>\n      <th>69234</th>\n      <td>AD</td>\n      <td>1996</td>\n      <td>0.0</td>\n      <td>f</td>\n      <td>0-14</td>\n    </tr>\n    <tr>\n      <th>75003</th>\n      <td>AD</td>\n      <td>1996</td>\n      <td>1.0</td>\n      <td>f</td>\n      <td>15-24</td>\n    </tr>\n    <tr>\n      <th>80772</th>\n      <td>AD</td>\n      <td>1996</td>\n      <td>1.0</td>\n      <td>f</td>\n      <td>25-34</td>\n    </tr>\n    <tr>\n      <th>86541</th>\n      <td>AD</td>\n      <td>1996</td>\n      <td>0.0</td>\n      <td>f</td>\n      <td>35-44</td>\n    </tr>\n    <tr>\n      <th>92310</th>\n      <td>AD</td>\n      <td>1996</td>\n      <td>0.0</td>\n      <td>f</td>\n      <td>45-54</td>\n    </tr>\n    <tr>\n      <th>...</th>\n      <td>...</td>\n      <td>...</td>\n      <td>...</td>\n      <td>...</td>\n      <td>...</td>\n    </tr>\n    <tr>\n      <th>23075</th>\n      <td>ZW</td>\n      <td>2008</td>\n      <td>614.0</td>\n      <td>m</td>\n      <td>15-24</td>\n    </tr>\n    <tr>\n      <th>28844</th>\n      <td>ZW</td>\n      <td>2008</td>\n      <td>0.0</td>\n      <td>m</td>\n      <td>25-34</td>\n    </tr>\n    <tr>\n      <th>34613</th>\n      <td>ZW</td>\n      <td>2008</td>\n      <td>3316.0</td>\n      <td>m</td>\n      <td>35-44</td>\n    </tr>\n    <tr>\n      <th>40382</th>\n      <td>ZW</td>\n      <td>2008</td>\n      <td>704.0</td>\n      <td>m</td>\n      <td>45-54</td>\n    </tr>\n    <tr>\n      <th>46151</th>\n      <td>ZW</td>\n      <td>2008</td>\n      <td>263.0</td>\n      <td>m</td>\n      <td>55-64</td>\n    </tr>\n  </tbody>\n</table>\n<p>29448 rows × 5 columns</p>\n</div>"
     },
     "execution_count": 50,
     "metadata": {},
     "output_type": "execute_result"
    }
   ],
   "source": [
    "tb_tidy = tb_tidy .drop([\"sex_and_age\", \"age_lower\", \"age_upper\"], axis = 1)\n",
    "tb_tidy  = tb_tidy .dropna()\n",
    "tb_tidy  = tb_tidy .sort_values(by = [\"iso2\", \"year\", \"sex\", \"age\", \"cases\"])\n",
    "tb_tidy "
   ]
  },
  {
   "cell_type": "code",
   "execution_count": 51,
   "metadata": {},
   "outputs": [
    {
     "data": {
      "text/plain": "      iso2  year   cases sex    age\n0       AD  1996     0.0   f   0-14\n1       AD  1996     1.0   f  15-24\n2       AD  1996     1.0   f  25-34\n3       AD  1996     0.0   f  35-44\n4       AD  1996     0.0   f  45-54\n...    ...   ...     ...  ..    ...\n29443   ZW  2008   614.0   m  15-24\n29444   ZW  2008     0.0   m  25-34\n29445   ZW  2008  3316.0   m  35-44\n29446   ZW  2008   704.0   m  45-54\n29447   ZW  2008   263.0   m  55-64\n\n[29448 rows x 5 columns]",
      "text/html": "<div>\n<style scoped>\n    .dataframe tbody tr th:only-of-type {\n        vertical-align: middle;\n    }\n\n    .dataframe tbody tr th {\n        vertical-align: top;\n    }\n\n    .dataframe thead th {\n        text-align: right;\n    }\n</style>\n<table border=\"1\" class=\"dataframe\">\n  <thead>\n    <tr style=\"text-align: right;\">\n      <th></th>\n      <th>iso2</th>\n      <th>year</th>\n      <th>cases</th>\n      <th>sex</th>\n      <th>age</th>\n    </tr>\n  </thead>\n  <tbody>\n    <tr>\n      <th>0</th>\n      <td>AD</td>\n      <td>1996</td>\n      <td>0.0</td>\n      <td>f</td>\n      <td>0-14</td>\n    </tr>\n    <tr>\n      <th>1</th>\n      <td>AD</td>\n      <td>1996</td>\n      <td>1.0</td>\n      <td>f</td>\n      <td>15-24</td>\n    </tr>\n    <tr>\n      <th>2</th>\n      <td>AD</td>\n      <td>1996</td>\n      <td>1.0</td>\n      <td>f</td>\n      <td>25-34</td>\n    </tr>\n    <tr>\n      <th>3</th>\n      <td>AD</td>\n      <td>1996</td>\n      <td>0.0</td>\n      <td>f</td>\n      <td>35-44</td>\n    </tr>\n    <tr>\n      <th>4</th>\n      <td>AD</td>\n      <td>1996</td>\n      <td>0.0</td>\n      <td>f</td>\n      <td>45-54</td>\n    </tr>\n    <tr>\n      <th>...</th>\n      <td>...</td>\n      <td>...</td>\n      <td>...</td>\n      <td>...</td>\n      <td>...</td>\n    </tr>\n    <tr>\n      <th>29443</th>\n      <td>ZW</td>\n      <td>2008</td>\n      <td>614.0</td>\n      <td>m</td>\n      <td>15-24</td>\n    </tr>\n    <tr>\n      <th>29444</th>\n      <td>ZW</td>\n      <td>2008</td>\n      <td>0.0</td>\n      <td>m</td>\n      <td>25-34</td>\n    </tr>\n    <tr>\n      <th>29445</th>\n      <td>ZW</td>\n      <td>2008</td>\n      <td>3316.0</td>\n      <td>m</td>\n      <td>35-44</td>\n    </tr>\n    <tr>\n      <th>29446</th>\n      <td>ZW</td>\n      <td>2008</td>\n      <td>704.0</td>\n      <td>m</td>\n      <td>45-54</td>\n    </tr>\n    <tr>\n      <th>29447</th>\n      <td>ZW</td>\n      <td>2008</td>\n      <td>263.0</td>\n      <td>m</td>\n      <td>55-64</td>\n    </tr>\n  </tbody>\n</table>\n<p>29448 rows × 5 columns</p>\n</div>"
     },
     "execution_count": 51,
     "metadata": {},
     "output_type": "execute_result"
    }
   ],
   "source": [
    "tb_tidy = tb_tidy.reset_index(drop=True)\n",
    "tb_tidy\n"
   ]
  },
  {
   "cell_type": "code",
   "execution_count": 52,
   "metadata": {},
   "outputs": [
    {
     "data": {
      "text/plain": "iso2     category\nyear        int64\ncases       int64\nsex      category\nage      category\ndtype: object"
     },
     "execution_count": 52,
     "metadata": {},
     "output_type": "execute_result"
    }
   ],
   "source": [
    "tb_tidy.iso2 = pd.Categorical(tb_tidy.iso2)\n",
    "tb_tidy.sex = pd.Categorical(tb_tidy.sex)\n",
    "tb_tidy.age = pd.Categorical(tb_tidy.age)\n",
    "tb_tidy.cases = tb_tidy.cases.astype(np.int64)\n",
    "tb_tidy.dtypes"
   ]
  },
  {
   "cell_type": "code",
   "execution_count": 53,
   "metadata": {},
   "outputs": [
    {
     "data": {
      "text/plain": "iso2\nAD        56\nAE       413\nAF     75102\nAG        20\nAI         1\n       ...  \nYE     51877\nYU      9814\nZA    875175\nZM    125903\nZW     83987\nName: cases, Length: 212, dtype: int64"
     },
     "execution_count": 53,
     "metadata": {},
     "output_type": "execute_result"
    }
   ],
   "source": [
    "tb_tidy.groupby('iso2').cases.sum()"
   ]
  },
  {
   "cell_type": "code",
   "execution_count": 54,
   "metadata": {},
   "outputs": [
    {
     "data": {
      "text/plain": "iso2  sex\nAD    f          24\n      m          32\nAE    f         199\n      m         214\nAF    f       52293\n              ...  \nZA    m      485900\nZM    f       55274\n      m       70629\nZW    f       39405\n      m       44582\nName: cases, Length: 424, dtype: int64"
     },
     "execution_count": 54,
     "metadata": {},
     "output_type": "execute_result"
    }
   ],
   "source": [
    "tb_tidy.groupby(['iso2', 'sex']).cases.sum()"
   ]
  },
  {
   "cell_type": "code",
   "execution_count": 55,
   "metadata": {},
   "outputs": [],
   "source": [
    "tb_tidy.to_csv('data/tb_tidy.csv')"
   ]
  },
  {
   "cell_type": "code",
   "execution_count": 55,
   "metadata": {},
   "outputs": [],
   "source": []
  }
 ],
 "metadata": {
  "kernelspec": {
   "display_name": "PyCharm (scientificProject)",
   "language": "python",
   "name": "pycharm-d3d04b0a"
  },
  "language_info": {
   "codemirror_mode": {
    "name": "ipython",
    "version": 3
   },
   "file_extension": ".py",
   "mimetype": "text/x-python",
   "name": "python",
   "nbconvert_exporter": "python",
   "pygments_lexer": "ipython3",
   "version": "3.9.5"
  }
 },
 "nbformat": 4,
 "nbformat_minor": 1
}