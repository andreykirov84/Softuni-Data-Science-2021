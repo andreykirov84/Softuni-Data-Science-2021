{
 "cells": [
  {
   "cell_type": "code",
   "execution_count": 11,
   "metadata": {
    "collapsed": true
   },
   "outputs": [],
   "source": [
    "import numpy as np\n",
    "import pandas as pd\n",
    "import matplotlib.pyplot as plt\n"
   ]
  },
  {
   "cell_type": "markdown",
   "source": [
    "Data Acquisition\n",
    "Live Demos"
   ],
   "metadata": {
    "collapsed": false
   }
  },
  {
   "cell_type": "code",
   "execution_count": 12,
   "outputs": [
    {
     "name": "stdout",
     "output_type": "stream",
     "text": [
      "   cats  dogs\n",
      "0     1    10\n",
      "1     2    20\n",
      "2     3    30\n",
      "<class 'pandas.core.frame.DataFrame'>\n",
      "(3, 2)\n"
     ]
    }
   ],
   "source": [
    "cats_and_dogs = pd.DataFrame({ 'cats': [1, 2, 3], 'dogs': [10, 20, 30] })\n",
    "print(cats_and_dogs)\n",
    "\n",
    "print(type(cats_and_dogs))\n",
    "print(cats_and_dogs.shape)"
   ],
   "metadata": {
    "collapsed": false,
    "pycharm": {
     "name": "#%%\n"
    }
   }
  },
  {
   "cell_type": "code",
   "execution_count": 13,
   "outputs": [
    {
     "name": "stdout",
     "output_type": "stream",
     "text": [
      "0     0.0\n",
      "1     4.0\n",
      "2     4.2\n",
      "3    42.0\n",
      "dtype: float64\n",
      "<class 'pandas.core.series.Series'>\n",
      "<class 'pandas.core.series.Series'>\n"
     ]
    }
   ],
   "source": [
    "numbers = pd.Series([0, 4, 4.2, 42])\n",
    "print(numbers)\n",
    "print(type(numbers))\n",
    "\n",
    "print(type(cats_and_dogs['cats']))\n"
   ],
   "metadata": {
    "collapsed": false,
    "pycharm": {
     "name": "#%%\n"
    }
   }
  },
  {
   "cell_type": "code",
   "execution_count": 18,
   "outputs": [
    {
     "name": "stdout",
     "output_type": "stream",
     "text": [
      "  Miles from Home  % of Accidents\n",
      "0     less than 1              23\n",
      "1          1 to 5              29\n",
      "2         6 to 10              17\n",
      "3        11 to 15               8\n",
      "4        16 to 20               6\n",
      "5         over 20              17\n",
      "0    less than 1\n",
      "1         1 to 5\n",
      "2        6 to 10\n",
      "3       11 to 15\n",
      "4       16 to 20\n",
      "5        over 20\n",
      "Name: Miles from Home, dtype: object\n",
      "Miles from Home    less than 1\n",
      "% of Accidents              23\n",
      "Name: 0, dtype: object\n",
      "8\n"
     ]
    }
   ],
   "source": [
    "accidents_data = pd.read_csv('data/accidents.csv')\n",
    "print(accidents_data)\n",
    "print(accidents_data['Miles from Home'])\n",
    "print(accidents_data.loc[0]) #Returns a row (loc = location)\n",
    "print(accidents_data.loc[3, '% of Accidents']) #Returns a data from specific row/col intersection\n"
   ],
   "metadata": {
    "collapsed": false,
    "pycharm": {
     "name": "#%%\n"
    }
   }
  },
  {
   "cell_type": "code",
   "execution_count": 19,
   "outputs": [
    {
     "name": "stdout",
     "output_type": "stream",
     "text": [
      "RangeIndex(start=0, stop=6, step=1)\n",
      "Index(['Miles from Home', '% of Accidents'], dtype='object')\n"
     ]
    }
   ],
   "source": [
    "print(accidents_data.index)\n",
    "print(accidents_data.columns)"
   ],
   "metadata": {
    "collapsed": false,
    "pycharm": {
     "name": "#%%\n"
    }
   }
  },
  {
   "cell_type": "code",
   "execution_count": 27,
   "outputs": [
    {
     "name": "stdout",
     "output_type": "stream",
     "text": [
      "       VendorID lpep_pickup_datetime Lpep_dropoff_datetime Store_and_fwd_flag  \\\n",
      "0             2  2015-09-01 00:02:34   2015-09-01 00:02:38                  N   \n",
      "1             2  2015-09-01 00:04:20   2015-09-01 00:04:24                  N   \n",
      "2             2  2015-09-01 00:01:50   2015-09-01 00:04:24                  N   \n",
      "3             2  2015-09-01 00:02:36   2015-09-01 00:06:42                  N   \n",
      "4             2  2015-09-01 00:00:14   2015-09-01 00:04:20                  N   \n",
      "...         ...                  ...                   ...                ...   \n",
      "65530         2  2015-09-02 16:51:59   2015-09-02 17:04:00                  N   \n",
      "65531         2  2015-09-02 16:53:51   2015-09-02 17:04:32                  N   \n",
      "65532         2  2015-09-02 16:57:21   2015-09-02 17:05:03                  N   \n",
      "65533         2  2015-09-02 16:51:42   2015-09-02 17:05:28                  N   \n",
      "65534         2  2015-09-02 16:40:36   2015-09-02 16:48:20                  N   \n",
      "\n",
      "       RateCodeID  Pickup_longitude  Pickup_latitude  Dropoff_longitude  \\\n",
      "0               5        -73.979485        40.684956         -73.979431   \n",
      "1               5        -74.010796        40.912216         -74.010780   \n",
      "2               1        -73.921410        40.766708         -73.914413   \n",
      "3               1        -73.921387        40.766678         -73.931427   \n",
      "4               1        -73.955482        40.714046         -73.944412   \n",
      "...           ...               ...              ...                ...   \n",
      "65530           1        -73.829605        40.759716         -73.832214   \n",
      "65531           1        -73.962112        40.805710         -73.984970   \n",
      "65532           1        -73.829941        40.713718         -73.831917   \n",
      "65533           1        -73.860748        40.832661         -73.845169   \n",
      "65534           1        -73.941887        40.822948         -73.937180   \n",
      "\n",
      "       Dropoff_latitude  Passenger_count  ...  Fare_amount  Extra  MTA_tax  \\\n",
      "0             40.685020                1  ...          7.8    0.0      0.0   \n",
      "1             40.912212                1  ...         45.0    0.0      0.0   \n",
      "2             40.764687                1  ...          4.0    0.5      0.5   \n",
      "3             40.771584                1  ...          5.0    0.5      0.5   \n",
      "4             40.714729                1  ...          5.0    0.5      0.5   \n",
      "...                 ...              ...  ...          ...    ...      ...   \n",
      "65530         40.751514                1  ...          9.0    1.0      0.5   \n",
      "65531         40.769550                1  ...         10.5    1.0      0.5   \n",
      "65532         40.702145                1  ...          7.0    1.0      0.5   \n",
      "65533         40.845306                1  ...         10.5    1.0      0.5   \n",
      "65534         40.804462                1  ...          8.0    1.0      0.5   \n",
      "\n",
      "       Tip_amount  Tolls_amount  Ehail_fee  improvement_surcharge  \\\n",
      "0            1.95           0.0        NaN                    0.0   \n",
      "1            0.00           0.0        NaN                    0.0   \n",
      "2            0.50           0.0        NaN                    0.3   \n",
      "3            0.00           0.0        NaN                    0.3   \n",
      "4            0.00           0.0        NaN                    0.3   \n",
      "...           ...           ...        ...                    ...   \n",
      "65530        0.00           0.0        NaN                    0.3   \n",
      "65531        2.46           0.0        NaN                    0.3   \n",
      "65532        2.20           0.0        NaN                    0.3   \n",
      "65533        2.46           0.0        NaN                    0.3   \n",
      "65534        0.00           0.0        NaN                    0.3   \n",
      "\n",
      "       Total_amount  Payment_type  Trip_type   \n",
      "0              9.75             1           2  \n",
      "1             45.00             1           2  \n",
      "2              5.80             1           1  \n",
      "3              6.30             2           1  \n",
      "4              6.30             2           1  \n",
      "...             ...           ...         ...  \n",
      "65530         10.80             2           1  \n",
      "65531         14.76             1           1  \n",
      "65532         11.00             1           1  \n",
      "65533         14.76             1           1  \n",
      "65534          9.80             2           1  \n",
      "\n",
      "[65535 rows x 21 columns]\n"
     ]
    }
   ],
   "source": [
    "green_trip_data = pd.read_excel(\"data/green_tripdata_2015-09.xls\")\n",
    "print(green_trip_data)\n"
   ],
   "metadata": {
    "collapsed": false,
    "pycharm": {
     "name": "#%%\n"
    }
   }
  }
 ],
 "metadata": {
  "kernelspec": {
   "name": "pycharm-d3d04b0a",
   "language": "python",
   "display_name": "PyCharm (scientificProject)"
  },
  "language_info": {
   "codemirror_mode": {
    "name": "ipython",
    "version": 2
   },
   "file_extension": ".py",
   "mimetype": "text/x-python",
   "name": "python",
   "nbconvert_exporter": "python",
   "pygments_lexer": "ipython2",
   "version": "2.7.6"
  }
 },
 "nbformat": 4,
 "nbformat_minor": 0
}