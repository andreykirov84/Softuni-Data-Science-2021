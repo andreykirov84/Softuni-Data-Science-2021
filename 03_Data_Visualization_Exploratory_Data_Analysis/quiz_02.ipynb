{
 "cells": [
  {
   "cell_type": "code",
   "execution_count": 1,
   "metadata": {
    "pycharm": {
     "is_executing": true
    }
   },
   "outputs": [],
   "source": [
    "%matplotlib inline\n"
   ]
  },
  {
   "cell_type": "code",
   "execution_count": 2,
   "metadata": {
    "pycharm": {
     "is_executing": true,
     "name": "#%%\n"
    }
   },
   "outputs": [],
   "source": [
    "import numpy as np\n",
    "import pandas as pd\n",
    "import matplotlib.pyplot as plt\n",
    "import nose.tools"
   ]
  },
  {
   "cell_type": "code",
   "execution_count": 3,
   "metadata": {},
   "outputs": [
    {
     "data": {
      "text/html": [
       "<div>\n",
       "<style scoped>\n",
       "    .dataframe tbody tr th:only-of-type {\n",
       "        vertical-align: middle;\n",
       "    }\n",
       "\n",
       "    .dataframe tbody tr th {\n",
       "        vertical-align: top;\n",
       "    }\n",
       "\n",
       "    .dataframe thead th {\n",
       "        text-align: right;\n",
       "    }\n",
       "</style>\n",
       "<table border=\"1\" class=\"dataframe\">\n",
       "  <thead>\n",
       "    <tr style=\"text-align: right;\">\n",
       "      <th></th>\n",
       "      <th>Unnamed: 0</th>\n",
       "      <th>cost</th>\n",
       "      <th>date</th>\n",
       "      <th>t1</th>\n",
       "      <th>t2</th>\n",
       "      <th>cap</th>\n",
       "      <th>pr</th>\n",
       "      <th>ne</th>\n",
       "      <th>ct</th>\n",
       "      <th>bw</th>\n",
       "      <th>cum.n</th>\n",
       "      <th>pt</th>\n",
       "    </tr>\n",
       "  </thead>\n",
       "  <tbody>\n",
       "    <tr>\n",
       "      <th>0</th>\n",
       "      <td>1</td>\n",
       "      <td>460.05</td>\n",
       "      <td>68.58</td>\n",
       "      <td>14</td>\n",
       "      <td>46</td>\n",
       "      <td>687</td>\n",
       "      <td>0</td>\n",
       "      <td>1</td>\n",
       "      <td>0</td>\n",
       "      <td>0</td>\n",
       "      <td>14</td>\n",
       "      <td>0</td>\n",
       "    </tr>\n",
       "    <tr>\n",
       "      <th>1</th>\n",
       "      <td>2</td>\n",
       "      <td>452.99</td>\n",
       "      <td>67.33</td>\n",
       "      <td>10</td>\n",
       "      <td>73</td>\n",
       "      <td>1065</td>\n",
       "      <td>0</td>\n",
       "      <td>0</td>\n",
       "      <td>1</td>\n",
       "      <td>0</td>\n",
       "      <td>1</td>\n",
       "      <td>0</td>\n",
       "    </tr>\n",
       "    <tr>\n",
       "      <th>2</th>\n",
       "      <td>3</td>\n",
       "      <td>443.22</td>\n",
       "      <td>67.33</td>\n",
       "      <td>10</td>\n",
       "      <td>85</td>\n",
       "      <td>1065</td>\n",
       "      <td>1</td>\n",
       "      <td>0</td>\n",
       "      <td>1</td>\n",
       "      <td>0</td>\n",
       "      <td>1</td>\n",
       "      <td>0</td>\n",
       "    </tr>\n",
       "    <tr>\n",
       "      <th>3</th>\n",
       "      <td>4</td>\n",
       "      <td>652.32</td>\n",
       "      <td>68.00</td>\n",
       "      <td>11</td>\n",
       "      <td>67</td>\n",
       "      <td>1065</td>\n",
       "      <td>0</td>\n",
       "      <td>1</td>\n",
       "      <td>1</td>\n",
       "      <td>0</td>\n",
       "      <td>12</td>\n",
       "      <td>0</td>\n",
       "    </tr>\n",
       "    <tr>\n",
       "      <th>4</th>\n",
       "      <td>5</td>\n",
       "      <td>642.23</td>\n",
       "      <td>68.00</td>\n",
       "      <td>11</td>\n",
       "      <td>78</td>\n",
       "      <td>1065</td>\n",
       "      <td>1</td>\n",
       "      <td>1</td>\n",
       "      <td>1</td>\n",
       "      <td>0</td>\n",
       "      <td>12</td>\n",
       "      <td>0</td>\n",
       "    </tr>\n",
       "  </tbody>\n",
       "</table>\n",
       "</div>"
      ],
      "text/plain": [
       "   Unnamed: 0    cost   date  t1  t2   cap  pr  ne  ct  bw  cum.n  pt\n",
       "0           1  460.05  68.58  14  46   687   0   1   0   0     14   0\n",
       "1           2  452.99  67.33  10  73  1065   0   0   1   0      1   0\n",
       "2           3  443.22  67.33  10  85  1065   1   0   1   0      1   0\n",
       "3           4  652.32  68.00  11  67  1065   0   1   1   0     12   0\n",
       "4           5  642.23  68.00  11  78  1065   1   1   1   0     12   0"
      ]
     },
     "execution_count": 3,
     "metadata": {},
     "output_type": "execute_result"
    }
   ],
   "source": [
    "nuclear = pd.read_csv('https://raw.githubusercontent.com/vincentarelbundock/Rdatasets/master/csv/boot/nuclear.csv')\n",
    "nuclear.head()\n"
   ]
  },
  {
   "cell_type": "code",
   "execution_count": 4,
   "metadata": {},
   "outputs": [
    {
     "data": {
      "text/plain": [
       "(32, 12)"
      ]
     },
     "execution_count": 4,
     "metadata": {},
     "output_type": "execute_result"
    }
   ],
   "source": [
    "nuclear.shape"
   ]
  },
  {
   "cell_type": "code",
   "execution_count": 5,
   "metadata": {},
   "outputs": [
    {
     "data": {
      "text/plain": [
       "Unnamed: 0      int64\n",
       "cost          float64\n",
       "date          float64\n",
       "t1              int64\n",
       "t2              int64\n",
       "cap             int64\n",
       "pr              int64\n",
       "ne              int64\n",
       "ct              int64\n",
       "bw              int64\n",
       "cum.n           int64\n",
       "pt              int64\n",
       "dtype: object"
      ]
     },
     "execution_count": 5,
     "metadata": {},
     "output_type": "execute_result"
    }
   ],
   "source": [
    "nuclear.dtypes"
   ]
  },
  {
   "cell_type": "raw",
   "metadata": {},
   "source": [
    "nuclear.describe().T"
   ]
  },
  {
   "cell_type": "code",
   "execution_count": null,
   "metadata": {},
   "outputs": [],
   "source": []
  },
  {
   "cell_type": "code",
   "execution_count": 6,
   "metadata": {},
   "outputs": [
    {
     "data": {
      "text/plain": [
       "461.56"
      ]
     },
     "execution_count": 6,
     "metadata": {},
     "output_type": "execute_result"
    }
   ],
   "source": [
    "round(nuclear.cost.mean(), 2)"
   ]
  },
  {
   "cell_type": "markdown",
   "metadata": {},
   "source": [
    "This data frame contains the following columns:\n",
    "\n",
    "cost\n",
    "The capital cost of construction in millions of dollars adjusted to 1976 base.\n",
    "\n",
    "date\n",
    "The date on which the construction permit was issued. The data are measured in years since January 1 1990 to the nearest month.\n",
    "\n",
    "t1\n",
    "The time between application for and issue of the construction permit.\n",
    "\n",
    "t2\n",
    "The time between issue of operating license and construction permit.\n",
    "\n",
    "cap\n",
    "The net capacity of the power plant (MWe).\n",
    "\n",
    "pr\n",
    "A binary variable where 1 indicates the prior existence of a LWR plant at the same site.\n",
    "\n",
    "ne\n",
    "A binary variable where 1 indicates that the plant was constructed in the north-east region of the U.S.A.\n",
    "\n",
    "ct\n",
    "A binary variable where 1 indicates the use of a cooling tower in the plant.\n",
    "\n",
    "bw\n",
    "A binary variable where 1 indicates that the nuclear steam supply system was manufactured by Babcock-Wilcox.\n",
    "\n",
    "cum.n\n",
    "The cumulative number of power plants constructed by each architect-engineer.\n",
    "\n",
    "pt\n",
    "A binary variable where 1 indicates those plants with partial turnkey guarantees."
   ]
  },
  {
   "cell_type": "code",
   "execution_count": 7,
   "metadata": {},
   "outputs": [
    {
     "data": {
      "text/plain": [
       "8"
      ]
     },
     "execution_count": 7,
     "metadata": {},
     "output_type": "execute_result"
    }
   ],
   "source": [
    "nuclear.head()\n",
    "ne_count = 0\n",
    "for item in nuclear['ne']:\n",
    "    if item == 1:\n",
    "        ne_count += 1\n",
    "ne_count"
   ]
  },
  {
   "cell_type": "code",
   "execution_count": 8,
   "metadata": {},
   "outputs": [
    {
     "data": {
      "text/plain": [
       "Text(0.5, 1.0, 'Cost of a power plant over time')"
      ]
     },
     "execution_count": 8,
     "metadata": {},
     "output_type": "execute_result"
    },
    {
     "data": {
      "image/png": "[encoded data removed]",
      "text/plain": [
       "<Figure size 432x288 with 1 Axes>"
      ]
     },
     "metadata": {
      "needs_background": "light"
     },
     "output_type": "display_data"
    }
   ],
   "source": [
    "plt.plot(nuclear.groupby(nuclear.date).cost.mean())\n",
    "plt.xlabel('Years since January 1 1990')\n",
    "plt.ylabel('The capital cost of construction in millions of dollars')\n",
    "plt.title('Cost of a power plant over time')"
   ]
  },
  {
   "cell_type": "code",
   "execution_count": 9,
   "metadata": {},
   "outputs": [
    {
     "data": {
      "text/html": [
       "<div>\n",
       "<style scoped>\n",
       "    .dataframe tbody tr th:only-of-type {\n",
       "        vertical-align: middle;\n",
       "    }\n",
       "\n",
       "    .dataframe tbody tr th {\n",
       "        vertical-align: top;\n",
       "    }\n",
       "\n",
       "    .dataframe thead th {\n",
       "        text-align: right;\n",
       "    }\n",
       "</style>\n",
       "<table border=\"1\" class=\"dataframe\">\n",
       "  <thead>\n",
       "    <tr style=\"text-align: right;\">\n",
       "      <th></th>\n",
       "      <th>Unnamed: 0</th>\n",
       "      <th>cost</th>\n",
       "      <th>date</th>\n",
       "      <th>t1</th>\n",
       "      <th>t2</th>\n",
       "      <th>cap</th>\n",
       "      <th>pr</th>\n",
       "      <th>ne</th>\n",
       "      <th>ct</th>\n",
       "      <th>bw</th>\n",
       "      <th>cum.n</th>\n",
       "      <th>pt</th>\n",
       "    </tr>\n",
       "  </thead>\n",
       "  <tbody>\n",
       "    <tr>\n",
       "      <th>2</th>\n",
       "      <td>3</td>\n",
       "      <td>443.22</td>\n",
       "      <td>67.33</td>\n",
       "      <td>10</td>\n",
       "      <td>85</td>\n",
       "      <td>1065</td>\n",
       "      <td>1</td>\n",
       "      <td>0</td>\n",
       "      <td>1</td>\n",
       "      <td>0</td>\n",
       "      <td>1</td>\n",
       "      <td>0</td>\n",
       "    </tr>\n",
       "    <tr>\n",
       "      <th>4</th>\n",
       "      <td>5</td>\n",
       "      <td>642.23</td>\n",
       "      <td>68.00</td>\n",
       "      <td>11</td>\n",
       "      <td>78</td>\n",
       "      <td>1065</td>\n",
       "      <td>1</td>\n",
       "      <td>1</td>\n",
       "      <td>1</td>\n",
       "      <td>0</td>\n",
       "      <td>12</td>\n",
       "      <td>0</td>\n",
       "    </tr>\n",
       "    <tr>\n",
       "      <th>8</th>\n",
       "      <td>9</td>\n",
       "      <td>457.12</td>\n",
       "      <td>68.42</td>\n",
       "      <td>15</td>\n",
       "      <td>55</td>\n",
       "      <td>822</td>\n",
       "      <td>1</td>\n",
       "      <td>0</td>\n",
       "      <td>0</td>\n",
       "      <td>0</td>\n",
       "      <td>5</td>\n",
       "      <td>0</td>\n",
       "    </tr>\n",
       "    <tr>\n",
       "      <th>17</th>\n",
       "      <td>18</td>\n",
       "      <td>289.66</td>\n",
       "      <td>68.42</td>\n",
       "      <td>15</td>\n",
       "      <td>76</td>\n",
       "      <td>530</td>\n",
       "      <td>1</td>\n",
       "      <td>0</td>\n",
       "      <td>1</td>\n",
       "      <td>0</td>\n",
       "      <td>2</td>\n",
       "      <td>0</td>\n",
       "    </tr>\n",
       "    <tr>\n",
       "      <th>19</th>\n",
       "      <td>20</td>\n",
       "      <td>490.88</td>\n",
       "      <td>68.92</td>\n",
       "      <td>16</td>\n",
       "      <td>59</td>\n",
       "      <td>1050</td>\n",
       "      <td>1</td>\n",
       "      <td>0</td>\n",
       "      <td>0</td>\n",
       "      <td>0</td>\n",
       "      <td>8</td>\n",
       "      <td>0</td>\n",
       "    </tr>\n",
       "    <tr>\n",
       "      <th>21</th>\n",
       "      <td>22</td>\n",
       "      <td>665.99</td>\n",
       "      <td>70.92</td>\n",
       "      <td>22</td>\n",
       "      <td>57</td>\n",
       "      <td>828</td>\n",
       "      <td>1</td>\n",
       "      <td>1</td>\n",
       "      <td>0</td>\n",
       "      <td>0</td>\n",
       "      <td>20</td>\n",
       "      <td>0</td>\n",
       "    </tr>\n",
       "    <tr>\n",
       "      <th>23</th>\n",
       "      <td>24</td>\n",
       "      <td>608.80</td>\n",
       "      <td>70.08</td>\n",
       "      <td>19</td>\n",
       "      <td>58</td>\n",
       "      <td>821</td>\n",
       "      <td>1</td>\n",
       "      <td>0</td>\n",
       "      <td>0</td>\n",
       "      <td>0</td>\n",
       "      <td>3</td>\n",
       "      <td>0</td>\n",
       "    </tr>\n",
       "    <tr>\n",
       "      <th>29</th>\n",
       "      <td>30</td>\n",
       "      <td>280.36</td>\n",
       "      <td>67.83</td>\n",
       "      <td>12</td>\n",
       "      <td>71</td>\n",
       "      <td>886</td>\n",
       "      <td>1</td>\n",
       "      <td>0</td>\n",
       "      <td>0</td>\n",
       "      <td>1</td>\n",
       "      <td>11</td>\n",
       "      <td>1</td>\n",
       "    </tr>\n",
       "    <tr>\n",
       "      <th>30</th>\n",
       "      <td>31</td>\n",
       "      <td>217.38</td>\n",
       "      <td>67.25</td>\n",
       "      <td>13</td>\n",
       "      <td>72</td>\n",
       "      <td>745</td>\n",
       "      <td>1</td>\n",
       "      <td>0</td>\n",
       "      <td>0</td>\n",
       "      <td>0</td>\n",
       "      <td>8</td>\n",
       "      <td>1</td>\n",
       "    </tr>\n",
       "    <tr>\n",
       "      <th>31</th>\n",
       "      <td>32</td>\n",
       "      <td>270.71</td>\n",
       "      <td>67.83</td>\n",
       "      <td>7</td>\n",
       "      <td>80</td>\n",
       "      <td>886</td>\n",
       "      <td>1</td>\n",
       "      <td>0</td>\n",
       "      <td>0</td>\n",
       "      <td>1</td>\n",
       "      <td>11</td>\n",
       "      <td>1</td>\n",
       "    </tr>\n",
       "  </tbody>\n",
       "</table>\n",
       "</div>"
      ],
      "text/plain": [
       "    Unnamed: 0    cost   date  t1  t2   cap  pr  ne  ct  bw  cum.n  pt\n",
       "2            3  443.22  67.33  10  85  1065   1   0   1   0      1   0\n",
       "4            5  642.23  68.00  11  78  1065   1   1   1   0     12   0\n",
       "8            9  457.12  68.42  15  55   822   1   0   0   0      5   0\n",
       "17          18  289.66  68.42  15  76   530   1   0   1   0      2   0\n",
       "19          20  490.88  68.92  16  59  1050   1   0   0   0      8   0\n",
       "21          22  665.99  70.92  22  57   828   1   1   0   0     20   0\n",
       "23          24  608.80  70.08  19  58   821   1   0   0   0      3   0\n",
       "29          30  280.36  67.83  12  71   886   1   0   0   1     11   1\n",
       "30          31  217.38  67.25  13  72   745   1   0   0   0      8   1\n",
       "31          32  270.71  67.83   7  80   886   1   0   0   1     11   1"
      ]
     },
     "execution_count": 9,
     "metadata": {},
     "output_type": "execute_result"
    }
   ],
   "source": [
    "nuclear_previos_pp =nuclear[nuclear['pr'] == 1]\n",
    "nuclear_previos_pp"
   ]
  },
  {
   "cell_type": "code",
   "execution_count": 10,
   "metadata": {},
   "outputs": [
    {
     "data": {
      "text/plain": [
       "1065"
      ]
     },
     "execution_count": 10,
     "metadata": {},
     "output_type": "execute_result"
    }
   ],
   "source": [
    "nuclear_previos_pp.cap.max()"
   ]
  },
  {
   "cell_type": "code",
   "execution_count": null,
   "metadata": {},
   "outputs": [],
   "source": []
  }
 ],
 "metadata": {
  "kernelspec": {
   "name": "pycharm-d3d04b0a",
   "language": "python",
   "display_name": "PyCharm (scientificProject)"
  },
  "language_info": {
   "codemirror_mode": {
    "name": "ipython",
    "version": 3
   },
   "file_extension": ".py",
   "mimetype": "text/x-python",
   "name": "python",
   "nbconvert_exporter": "python",
   "pygments_lexer": "ipython3",
   "version": "3.8.8"
  }
 },
 "nbformat": 4,
 "nbformat_minor": 1
}